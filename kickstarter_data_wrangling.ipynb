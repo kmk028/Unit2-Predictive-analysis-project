{
 "cells": [
  {
   "cell_type": "code",
   "execution_count": 85,
   "metadata": {},
   "outputs": [],
   "source": [
    "from glob import glob\n",
    "import pandas as pd\n",
    "import numpy as np\n",
    "import matplotlib.pyplot as plt\n",
    "import pandas as pd\n",
    "import pandas_profiling\n",
    "import datetime\n",
    "import json\n",
    "from pandas.io.json import json_normalize\n",
    "from sklearn.model_selection import train_test_split, RandomizedSearchCV\n",
    "from sklearn.pipeline import Pipeline\n",
    "from sklearn.metrics import  accuracy_score, classification_report, confusion_matrix\n",
    "from xgboost import XGBClassifier\n",
    "from scipy.stats import randint, uniform\n",
    "import category_encoders as ce\n",
    "from sklearn.preprocessing import StandardScaler\n",
    "from sklearn.impute import SimpleImputer\n",
    "from sklearn.compose import ColumnTransformer\n",
    "from sklearn.model_selection import GridSearchCV\n",
    "import seaborn as sns\n",
    "import plotly.express as px\n",
    "import plotly.graph_objects as go\n",
    "from sklearn.utils.multiclass import unique_labels\n",
    "import joblib\n",
    "from sklearn.ensemble import RandomForestClassifier\n",
    "from pdpbox.pdp import pdp_interact, pdp_interact_plot, pdp_isolate, pdp_plot\n",
    "from xgboost import plot_importance\n",
    "import ast"
   ]
  },
  {
   "cell_type": "code",
   "execution_count": 86,
   "metadata": {},
   "outputs": [],
   "source": [
    " master = pd.DataFrame([[0]*37],columns=['backers_count', 'blurb', 'category', 'converted_pledged_amount',\n",
    "       'country', 'created_at', 'creator', 'currency', 'currency_symbol',\n",
    "       'currency_trailing_code', 'current_currency', 'deadline',\n",
    "       'disable_communication', 'friends', 'fx_rate', 'goal', 'id',\n",
    "       'is_backing', 'is_starrable', 'is_starred', 'launched_at', 'location',\n",
    "       'name', 'permissions', 'photo', 'pledged', 'profile', 'slug',\n",
    "       'source_url', 'spotlight', 'staff_pick', 'state', 'state_changed_at',\n",
    "       'static_usd_rate', 'urls', 'usd_pledged', 'usd_type'])"
   ]
  },
  {
   "cell_type": "code",
   "execution_count": 87,
   "metadata": {},
   "outputs": [],
   "source": [
    "for path in glob('Kickstarter_2019-08-15T03_20_03_022Z/*.csv'):\n",
    "    df = pd.read_csv(path,error_bad_lines=False)\n",
    "    master = pd.concat([df,master])"
   ]
  },
  {
   "cell_type": "code",
   "execution_count": 88,
   "metadata": {},
   "outputs": [
    {
     "data": {
      "text/plain": [
       "(207622, 37)"
      ]
     },
     "execution_count": 88,
     "metadata": {},
     "output_type": "execute_result"
    }
   ],
   "source": [
    "master.shape"
   ]
  },
  {
   "cell_type": "code",
   "execution_count": 89,
   "metadata": {},
   "outputs": [],
   "source": [
    "# profile = master.profile_report(title='Pandas Profiling Report')\n",
    "# profile.to_file(output_file=\"output.html\")"
   ]
  },
  {
   "cell_type": "code",
   "execution_count": 90,
   "metadata": {
    "scrolled": true
   },
   "outputs": [],
   "source": [
    "master = master.drop(columns = ['friends','is_backing','is_starred','permissions','photo'\n",
    "                               ,'currency_symbol','urls','source_url','id','name','slug'])"
   ]
  },
  {
   "cell_type": "code",
   "execution_count": 135,
   "metadata": {},
   "outputs": [
    {
     "data": {
      "text/html": [
       "<div>\n",
       "<style scoped>\n",
       "    .dataframe tbody tr th:only-of-type {\n",
       "        vertical-align: middle;\n",
       "    }\n",
       "\n",
       "    .dataframe tbody tr th {\n",
       "        vertical-align: top;\n",
       "    }\n",
       "\n",
       "    .dataframe thead th {\n",
       "        text-align: right;\n",
       "    }\n",
       "</style>\n",
       "<table border=\"1\" class=\"dataframe\">\n",
       "  <thead>\n",
       "    <tr style=\"text-align: right;\">\n",
       "      <th></th>\n",
       "      <th>category</th>\n",
       "      <th>location</th>\n",
       "    </tr>\n",
       "  </thead>\n",
       "  <tbody>\n",
       "    <tr>\n",
       "      <th>0</th>\n",
       "      <td>{'id': 334, 'name': 'DIY Electronics', 'slug':...</td>\n",
       "      <td>{\"id\":2455920,\"name\":\"Mountain View\",\"slug\":\"m...</td>\n",
       "    </tr>\n",
       "    <tr>\n",
       "      <th>1</th>\n",
       "      <td>{'id': 284, 'name': 'Musical', 'slug': 'theate...</td>\n",
       "      <td>{\"id\":44418,\"name\":\"London\",\"slug\":\"london-gb\"...</td>\n",
       "    </tr>\n",
       "    <tr>\n",
       "      <th>2</th>\n",
       "      <td>{'id': 332, 'name': 'Apps', 'slug': 'technolog...</td>\n",
       "      <td>{\"id\":726874,\"name\":\"The Hague\",\"slug\":\"the-ha...</td>\n",
       "    </tr>\n",
       "    <tr>\n",
       "      <th>3</th>\n",
       "      <td>{'id': 42, 'name': 'Pop', 'slug': 'music/pop',...</td>\n",
       "      <td>{\"id\":2450080,\"name\":\"Miami Beach\",\"slug\":\"mia...</td>\n",
       "    </tr>\n",
       "    <tr>\n",
       "      <th>4</th>\n",
       "      <td>{'id': 321, 'name': 'Punk', 'slug': 'music/pun...</td>\n",
       "      <td>{\"id\":2504633,\"name\":\"Tempe\",\"slug\":\"tempe-az\"...</td>\n",
       "    </tr>\n",
       "  </tbody>\n",
       "</table>\n",
       "</div>"
      ],
      "text/plain": [
       "                                            category  \\\n",
       "0  {'id': 334, 'name': 'DIY Electronics', 'slug':...   \n",
       "1  {'id': 284, 'name': 'Musical', 'slug': 'theate...   \n",
       "2  {'id': 332, 'name': 'Apps', 'slug': 'technolog...   \n",
       "3  {'id': 42, 'name': 'Pop', 'slug': 'music/pop',...   \n",
       "4  {'id': 321, 'name': 'Punk', 'slug': 'music/pun...   \n",
       "\n",
       "                                            location  \n",
       "0  {\"id\":2455920,\"name\":\"Mountain View\",\"slug\":\"m...  \n",
       "1  {\"id\":44418,\"name\":\"London\",\"slug\":\"london-gb\"...  \n",
       "2  {\"id\":726874,\"name\":\"The Hague\",\"slug\":\"the-ha...  \n",
       "3  {\"id\":2450080,\"name\":\"Miami Beach\",\"slug\":\"mia...  \n",
       "4  {\"id\":2504633,\"name\":\"Tempe\",\"slug\":\"tempe-az\"...  "
      ]
     },
     "execution_count": 135,
     "metadata": {},
     "output_type": "execute_result"
    }
   ],
   "source": [
    "master[['category','location']].head()"
   ]
  },
  {
   "cell_type": "code",
   "execution_count": 92,
   "metadata": {},
   "outputs": [
    {
     "data": {
      "text/plain": [
       "'{\"id\":334,\"name\":\"DIY Electronics\",\"slug\":\"technology/diy electronics\",\"position\":4,\"parent_id\":16,\"color\":6526716,\"urls\":{\"web\":{\"discover\":\"http://www.kickstarter.com/discover/categories/technology/diy%20electronics\"}}}'"
      ]
     },
     "execution_count": 92,
     "metadata": {},
     "output_type": "execute_result"
    }
   ],
   "source": [
    "# need to get category and sub category for this. \n",
    "master['category'].head()[0]"
   ]
  },
  {
   "cell_type": "code",
   "execution_count": 93,
   "metadata": {},
   "outputs": [],
   "source": [
    "master['created_at'] = master['created_at'].apply(lambda x: datetime.datetime.fromtimestamp(x))\n",
    "master['launched_at'] = master['launched_at'].apply(lambda x: datetime.datetime.fromtimestamp(x))\n",
    "master['deadline'] = master['deadline'].apply(lambda x: datetime.datetime.fromtimestamp(x))\n",
    "#master['deadline'] = master['deadline'].apply(lambda x: datetime.datetime.fromtimestamp(x).strftime('%c'))"
   ]
  },
  {
   "cell_type": "code",
   "execution_count": 94,
   "metadata": {},
   "outputs": [
    {
     "data": {
      "text/html": [
       "<div>\n",
       "<style scoped>\n",
       "    .dataframe tbody tr th:only-of-type {\n",
       "        vertical-align: middle;\n",
       "    }\n",
       "\n",
       "    .dataframe tbody tr th {\n",
       "        vertical-align: top;\n",
       "    }\n",
       "\n",
       "    .dataframe thead th {\n",
       "        text-align: right;\n",
       "    }\n",
       "</style>\n",
       "<table border=\"1\" class=\"dataframe\">\n",
       "  <thead>\n",
       "    <tr style=\"text-align: right;\">\n",
       "      <th></th>\n",
       "      <th>created_at</th>\n",
       "      <th>launched_at</th>\n",
       "      <th>deadline</th>\n",
       "      <th>state</th>\n",
       "    </tr>\n",
       "  </thead>\n",
       "  <tbody>\n",
       "    <tr>\n",
       "      <th>514</th>\n",
       "      <td>2015-02-10 13:24:45</td>\n",
       "      <td>2015-03-16 23:25:00</td>\n",
       "      <td>2015-04-15 23:25:00</td>\n",
       "      <td>successful</td>\n",
       "    </tr>\n",
       "    <tr>\n",
       "      <th>3160</th>\n",
       "      <td>2016-04-28 11:02:09</td>\n",
       "      <td>2016-05-30 16:07:57</td>\n",
       "      <td>2016-06-29 16:07:57</td>\n",
       "      <td>failed</td>\n",
       "    </tr>\n",
       "    <tr>\n",
       "      <th>1508</th>\n",
       "      <td>2013-04-08 12:36:52</td>\n",
       "      <td>2013-04-16 08:59:25</td>\n",
       "      <td>2013-05-12 14:00:00</td>\n",
       "      <td>successful</td>\n",
       "    </tr>\n",
       "    <tr>\n",
       "      <th>2597</th>\n",
       "      <td>2018-10-02 01:00:30</td>\n",
       "      <td>2018-10-03 00:28:23</td>\n",
       "      <td>2018-11-02 15:35:00</td>\n",
       "      <td>successful</td>\n",
       "    </tr>\n",
       "    <tr>\n",
       "      <th>1957</th>\n",
       "      <td>2015-11-28 08:53:55</td>\n",
       "      <td>2016-01-31 07:58:55</td>\n",
       "      <td>2016-03-01 07:58:55</td>\n",
       "      <td>successful</td>\n",
       "    </tr>\n",
       "    <tr>\n",
       "      <th>223</th>\n",
       "      <td>2019-08-06 00:16:23</td>\n",
       "      <td>2019-08-07 10:50:56</td>\n",
       "      <td>2019-09-11 10:50:56</td>\n",
       "      <td>live</td>\n",
       "    </tr>\n",
       "    <tr>\n",
       "      <th>237</th>\n",
       "      <td>2016-04-29 10:30:39</td>\n",
       "      <td>2016-07-10 23:13:20</td>\n",
       "      <td>2016-08-09 21:00:00</td>\n",
       "      <td>successful</td>\n",
       "    </tr>\n",
       "    <tr>\n",
       "      <th>1617</th>\n",
       "      <td>2019-01-17 13:59:58</td>\n",
       "      <td>2019-02-19 10:09:18</td>\n",
       "      <td>2019-03-16 16:25:00</td>\n",
       "      <td>successful</td>\n",
       "    </tr>\n",
       "    <tr>\n",
       "      <th>1474</th>\n",
       "      <td>2019-02-27 08:10:15</td>\n",
       "      <td>2019-06-19 09:03:37</td>\n",
       "      <td>2019-07-19 15:59:00</td>\n",
       "      <td>successful</td>\n",
       "    </tr>\n",
       "    <tr>\n",
       "      <th>2002</th>\n",
       "      <td>2015-11-18 12:46:09</td>\n",
       "      <td>2015-11-20 06:18:14</td>\n",
       "      <td>2015-12-21 06:18:14</td>\n",
       "      <td>successful</td>\n",
       "    </tr>\n",
       "  </tbody>\n",
       "</table>\n",
       "</div>"
      ],
      "text/plain": [
       "              created_at         launched_at            deadline       state\n",
       "514  2015-02-10 13:24:45 2015-03-16 23:25:00 2015-04-15 23:25:00  successful\n",
       "3160 2016-04-28 11:02:09 2016-05-30 16:07:57 2016-06-29 16:07:57      failed\n",
       "1508 2013-04-08 12:36:52 2013-04-16 08:59:25 2013-05-12 14:00:00  successful\n",
       "2597 2018-10-02 01:00:30 2018-10-03 00:28:23 2018-11-02 15:35:00  successful\n",
       "1957 2015-11-28 08:53:55 2016-01-31 07:58:55 2016-03-01 07:58:55  successful\n",
       "223  2019-08-06 00:16:23 2019-08-07 10:50:56 2019-09-11 10:50:56        live\n",
       "237  2016-04-29 10:30:39 2016-07-10 23:13:20 2016-08-09 21:00:00  successful\n",
       "1617 2019-01-17 13:59:58 2019-02-19 10:09:18 2019-03-16 16:25:00  successful\n",
       "1474 2019-02-27 08:10:15 2019-06-19 09:03:37 2019-07-19 15:59:00  successful\n",
       "2002 2015-11-18 12:46:09 2015-11-20 06:18:14 2015-12-21 06:18:14  successful"
      ]
     },
     "execution_count": 94,
     "metadata": {},
     "output_type": "execute_result"
    }
   ],
   "source": [
    "master[['created_at','launched_at','deadline','state']].sample(10)"
   ]
  },
  {
   "cell_type": "code",
   "execution_count": 95,
   "metadata": {},
   "outputs": [],
   "source": [
    "master['category'] = master['category'].astype(str)"
   ]
  },
  {
   "cell_type": "code",
   "execution_count": 96,
   "metadata": {},
   "outputs": [],
   "source": [
    "master['category'] = master['category'].apply(json.loads)"
   ]
  },
  {
   "cell_type": "code",
   "execution_count": 97,
   "metadata": {},
   "outputs": [
    {
     "data": {
      "text/plain": [
       "dict"
      ]
     },
     "execution_count": 97,
     "metadata": {},
     "output_type": "execute_result"
    }
   ],
   "source": [
    "type(master['category'].head()[0])"
   ]
  },
  {
   "cell_type": "code",
   "execution_count": 98,
   "metadata": {},
   "outputs": [],
   "source": [
    "df = pd.concat([master.drop(['category'], axis=1), master['category'].apply(pd.Series)], axis=1)"
   ]
  },
  {
   "cell_type": "code",
   "execution_count": 99,
   "metadata": {},
   "outputs": [
    {
     "data": {
      "text/plain": [
       "Index([           'backers_count',                    'blurb',\n",
       "       'converted_pledged_amount',                  'country',\n",
       "                     'created_at',                  'creator',\n",
       "                       'currency',   'currency_trailing_code',\n",
       "               'current_currency',                 'deadline',\n",
       "          'disable_communication',                  'fx_rate',\n",
       "                           'goal',             'is_starrable',\n",
       "                    'launched_at',                 'location',\n",
       "                        'pledged',                  'profile',\n",
       "                      'spotlight',               'staff_pick',\n",
       "                          'state',         'state_changed_at',\n",
       "                'static_usd_rate',              'usd_pledged',\n",
       "                       'usd_type',                    'color',\n",
       "                             'id',                     'name',\n",
       "                      'parent_id',                 'position',\n",
       "                           'slug',                     'urls',\n",
       "                                0],\n",
       "      dtype='object')"
      ]
     },
     "execution_count": 99,
     "metadata": {},
     "output_type": "execute_result"
    }
   ],
   "source": [
    "df.columns"
   ]
  },
  {
   "cell_type": "code",
   "execution_count": 100,
   "metadata": {},
   "outputs": [
    {
     "data": {
      "text/html": [
       "<div>\n",
       "<style scoped>\n",
       "    .dataframe tbody tr th:only-of-type {\n",
       "        vertical-align: middle;\n",
       "    }\n",
       "\n",
       "    .dataframe tbody tr th {\n",
       "        vertical-align: top;\n",
       "    }\n",
       "\n",
       "    .dataframe thead th {\n",
       "        text-align: right;\n",
       "    }\n",
       "</style>\n",
       "<table border=\"1\" class=\"dataframe\">\n",
       "  <thead>\n",
       "    <tr style=\"text-align: right;\">\n",
       "      <th></th>\n",
       "      <th>slug</th>\n",
       "      <th>name</th>\n",
       "    </tr>\n",
       "  </thead>\n",
       "  <tbody>\n",
       "    <tr>\n",
       "      <th>0</th>\n",
       "      <td>technology/diy electronics</td>\n",
       "      <td>DIY Electronics</td>\n",
       "    </tr>\n",
       "    <tr>\n",
       "      <th>1</th>\n",
       "      <td>theater/musical</td>\n",
       "      <td>Musical</td>\n",
       "    </tr>\n",
       "    <tr>\n",
       "      <th>2</th>\n",
       "      <td>technology/apps</td>\n",
       "      <td>Apps</td>\n",
       "    </tr>\n",
       "    <tr>\n",
       "      <th>3</th>\n",
       "      <td>music/pop</td>\n",
       "      <td>Pop</td>\n",
       "    </tr>\n",
       "    <tr>\n",
       "      <th>4</th>\n",
       "      <td>music/punk</td>\n",
       "      <td>Punk</td>\n",
       "    </tr>\n",
       "  </tbody>\n",
       "</table>\n",
       "</div>"
      ],
      "text/plain": [
       "                         slug             name\n",
       "0  technology/diy electronics  DIY Electronics\n",
       "1             theater/musical          Musical\n",
       "2             technology/apps             Apps\n",
       "3                   music/pop              Pop\n",
       "4                  music/punk             Punk"
      ]
     },
     "execution_count": 100,
     "metadata": {},
     "output_type": "execute_result"
    }
   ],
   "source": [
    "df[['slug','name']].head()"
   ]
  },
  {
   "cell_type": "code",
   "execution_count": 101,
   "metadata": {},
   "outputs": [],
   "source": [
    "df=df.drop(columns = ['name','parent_id','position','id','urls','color','state_changed_at'],axis =1)"
   ]
  },
  {
   "cell_type": "code",
   "execution_count": 102,
   "metadata": {},
   "outputs": [],
   "source": [
    "new = df['slug'].str.split(\"/\", n = 1, expand = True) \n",
    "df[\"category\"]= new[0]\n",
    "df[\"sub-category\"] = new[1]\n",
    "df.drop(columns =['slug'], inplace = True)"
   ]
  },
  {
   "cell_type": "code",
   "execution_count": 103,
   "metadata": {
    "scrolled": true
   },
   "outputs": [
    {
     "data": {
      "text/html": [
       "<div>\n",
       "<style scoped>\n",
       "    .dataframe tbody tr th:only-of-type {\n",
       "        vertical-align: middle;\n",
       "    }\n",
       "\n",
       "    .dataframe tbody tr th {\n",
       "        vertical-align: top;\n",
       "    }\n",
       "\n",
       "    .dataframe thead th {\n",
       "        text-align: right;\n",
       "    }\n",
       "</style>\n",
       "<table border=\"1\" class=\"dataframe\">\n",
       "  <thead>\n",
       "    <tr style=\"text-align: right;\">\n",
       "      <th></th>\n",
       "      <th>category</th>\n",
       "      <th>sub-category</th>\n",
       "    </tr>\n",
       "  </thead>\n",
       "  <tbody>\n",
       "    <tr>\n",
       "      <th>0</th>\n",
       "      <td>technology</td>\n",
       "      <td>diy electronics</td>\n",
       "    </tr>\n",
       "    <tr>\n",
       "      <th>1</th>\n",
       "      <td>theater</td>\n",
       "      <td>musical</td>\n",
       "    </tr>\n",
       "    <tr>\n",
       "      <th>2</th>\n",
       "      <td>technology</td>\n",
       "      <td>apps</td>\n",
       "    </tr>\n",
       "    <tr>\n",
       "      <th>3</th>\n",
       "      <td>music</td>\n",
       "      <td>pop</td>\n",
       "    </tr>\n",
       "    <tr>\n",
       "      <th>4</th>\n",
       "      <td>music</td>\n",
       "      <td>punk</td>\n",
       "    </tr>\n",
       "  </tbody>\n",
       "</table>\n",
       "</div>"
      ],
      "text/plain": [
       "     category     sub-category\n",
       "0  technology  diy electronics\n",
       "1     theater          musical\n",
       "2  technology             apps\n",
       "3       music              pop\n",
       "4       music             punk"
      ]
     },
     "execution_count": 103,
     "metadata": {},
     "output_type": "execute_result"
    }
   ],
   "source": [
    "df[['category','sub-category']].head()"
   ]
  },
  {
   "cell_type": "code",
   "execution_count": 104,
   "metadata": {},
   "outputs": [],
   "source": [
    "df['campaign_duration'] = df['deadline'] - df['launched_at'] \n",
    "#type(df['launched_at'].head()[0])"
   ]
  },
  {
   "cell_type": "code",
   "execution_count": 105,
   "metadata": {},
   "outputs": [
    {
     "data": {
      "text/html": [
       "<div>\n",
       "<style scoped>\n",
       "    .dataframe tbody tr th:only-of-type {\n",
       "        vertical-align: middle;\n",
       "    }\n",
       "\n",
       "    .dataframe tbody tr th {\n",
       "        vertical-align: top;\n",
       "    }\n",
       "\n",
       "    .dataframe thead th {\n",
       "        text-align: right;\n",
       "    }\n",
       "</style>\n",
       "<table border=\"1\" class=\"dataframe\">\n",
       "  <thead>\n",
       "    <tr style=\"text-align: right;\">\n",
       "      <th></th>\n",
       "      <th>campaign_duration</th>\n",
       "      <th>deadline</th>\n",
       "      <th>launched_at</th>\n",
       "      <th>state</th>\n",
       "    </tr>\n",
       "  </thead>\n",
       "  <tbody>\n",
       "    <tr>\n",
       "      <th>0</th>\n",
       "      <td>60 days</td>\n",
       "      <td>2018-08-25 13:49:39</td>\n",
       "      <td>2018-06-26 13:49:39</td>\n",
       "      <td>failed</td>\n",
       "    </tr>\n",
       "    <tr>\n",
       "      <th>1</th>\n",
       "      <td>30 days</td>\n",
       "      <td>2018-09-27 05:49:57</td>\n",
       "      <td>2018-08-28 05:49:57</td>\n",
       "      <td>failed</td>\n",
       "    </tr>\n",
       "    <tr>\n",
       "      <th>2</th>\n",
       "      <td>60 days</td>\n",
       "      <td>2018-09-20 02:49:52</td>\n",
       "      <td>2018-07-22 02:49:52</td>\n",
       "      <td>failed</td>\n",
       "    </tr>\n",
       "    <tr>\n",
       "      <th>3</th>\n",
       "      <td>60 days</td>\n",
       "      <td>2011-12-30 21:45:36</td>\n",
       "      <td>2011-10-31 21:45:36</td>\n",
       "      <td>successful</td>\n",
       "    </tr>\n",
       "    <tr>\n",
       "      <th>4</th>\n",
       "      <td>52 days</td>\n",
       "      <td>2017-09-29 14:31:37</td>\n",
       "      <td>2017-08-08 14:31:37</td>\n",
       "      <td>successful</td>\n",
       "    </tr>\n",
       "  </tbody>\n",
       "</table>\n",
       "</div>"
      ],
      "text/plain": [
       "  campaign_duration            deadline         launched_at       state\n",
       "0           60 days 2018-08-25 13:49:39 2018-06-26 13:49:39      failed\n",
       "1           30 days 2018-09-27 05:49:57 2018-08-28 05:49:57      failed\n",
       "2           60 days 2018-09-20 02:49:52 2018-07-22 02:49:52      failed\n",
       "3           60 days 2011-12-30 21:45:36 2011-10-31 21:45:36  successful\n",
       "4           52 days 2017-09-29 14:31:37 2017-08-08 14:31:37  successful"
      ]
     },
     "execution_count": 105,
     "metadata": {},
     "output_type": "execute_result"
    }
   ],
   "source": [
    "df[['campaign_duration','deadline','launched_at','state']].head()"
   ]
  },
  {
   "cell_type": "code",
   "execution_count": 106,
   "metadata": {},
   "outputs": [],
   "source": [
    "df['campaign_launch_delay'] = df['launched_at'] - df['created_at'] "
   ]
  },
  {
   "cell_type": "code",
   "execution_count": 107,
   "metadata": {},
   "outputs": [
    {
     "data": {
      "text/plain": [
       "0   256 days 15:35:00\n",
       "1     0 days 00:46:23\n",
       "2    72 days 17:39:08\n",
       "3    60 days 07:13:43\n",
       "4     2 days 19:47:54\n",
       "Name: campaign_launch_delay, dtype: timedelta64[ns]"
      ]
     },
     "execution_count": 107,
     "metadata": {},
     "output_type": "execute_result"
    }
   ],
   "source": [
    "df['campaign_launch_delay'].head()"
   ]
  },
  {
   "cell_type": "code",
   "execution_count": 108,
   "metadata": {},
   "outputs": [],
   "source": [
    "df2 = df[df['state'] != ('live')]"
   ]
  },
  {
   "cell_type": "code",
   "execution_count": 109,
   "metadata": {},
   "outputs": [
    {
     "data": {
      "text/plain": [
       "successful    118183\n",
       "failed         74143\n",
       "canceled        8456\n",
       "suspended        632\n",
       "0                  1\n",
       "Name: state, dtype: int64"
      ]
     },
     "execution_count": 109,
     "metadata": {},
     "output_type": "execute_result"
    }
   ],
   "source": [
    "df2['state'].value_counts()"
   ]
  },
  {
   "cell_type": "code",
   "execution_count": 110,
   "metadata": {},
   "outputs": [],
   "source": [
    "df3 = df2[df2['state'] != 0]"
   ]
  },
  {
   "cell_type": "code",
   "execution_count": 111,
   "metadata": {},
   "outputs": [
    {
     "data": {
      "text/plain": [
       "successful    118183\n",
       "failed         74143\n",
       "canceled        8456\n",
       "suspended        632\n",
       "Name: state, dtype: int64"
      ]
     },
     "execution_count": 111,
     "metadata": {},
     "output_type": "execute_result"
    }
   ],
   "source": [
    "df3['state'].value_counts()"
   ]
  },
  {
   "cell_type": "code",
   "execution_count": 112,
   "metadata": {},
   "outputs": [],
   "source": [
    "df3=df3.drop(columns = ['blurb'],axis =1)"
   ]
  },
  {
   "cell_type": "code",
   "execution_count": 113,
   "metadata": {},
   "outputs": [],
   "source": [
    "df3['deadline'] = pd.to_datetime(df3['deadline'], infer_datetime_format=True)\n",
    "df3['launched_at'] = pd.to_datetime(df3['launched_at'], infer_datetime_format=True)\n",
    "#df3['campaign_launch_delay'] = pd.to_datetime(df3['campaign_launch_delay'], infer_datetime_format=True)\n",
    "df3['created_at'] = pd.to_datetime(df3['created_at'], infer_datetime_format=True)"
   ]
  },
  {
   "cell_type": "code",
   "execution_count": 114,
   "metadata": {},
   "outputs": [],
   "source": [
    "df3['campaign_duration_days']= df3['campaign_duration'].dt.days"
   ]
  },
  {
   "cell_type": "code",
   "execution_count": 115,
   "metadata": {},
   "outputs": [],
   "source": [
    "df3['campaign_launch_delay_days']=df3['campaign_launch_delay'].dt.days"
   ]
  },
  {
   "cell_type": "code",
   "execution_count": 116,
   "metadata": {},
   "outputs": [
    {
     "data": {
      "text/html": [
       "<div>\n",
       "<style scoped>\n",
       "    .dataframe tbody tr th:only-of-type {\n",
       "        vertical-align: middle;\n",
       "    }\n",
       "\n",
       "    .dataframe tbody tr th {\n",
       "        vertical-align: top;\n",
       "    }\n",
       "\n",
       "    .dataframe thead th {\n",
       "        text-align: right;\n",
       "    }\n",
       "</style>\n",
       "<table border=\"1\" class=\"dataframe\">\n",
       "  <thead>\n",
       "    <tr style=\"text-align: right;\">\n",
       "      <th></th>\n",
       "      <th>campaign_launch_delay_days</th>\n",
       "      <th>campaign_launch_delay</th>\n",
       "    </tr>\n",
       "  </thead>\n",
       "  <tbody>\n",
       "    <tr>\n",
       "      <th>0</th>\n",
       "      <td>256</td>\n",
       "      <td>256 days 15:35:00</td>\n",
       "    </tr>\n",
       "    <tr>\n",
       "      <th>1</th>\n",
       "      <td>0</td>\n",
       "      <td>0 days 00:46:23</td>\n",
       "    </tr>\n",
       "    <tr>\n",
       "      <th>2</th>\n",
       "      <td>72</td>\n",
       "      <td>72 days 17:39:08</td>\n",
       "    </tr>\n",
       "    <tr>\n",
       "      <th>3</th>\n",
       "      <td>60</td>\n",
       "      <td>60 days 07:13:43</td>\n",
       "    </tr>\n",
       "    <tr>\n",
       "      <th>4</th>\n",
       "      <td>2</td>\n",
       "      <td>2 days 19:47:54</td>\n",
       "    </tr>\n",
       "  </tbody>\n",
       "</table>\n",
       "</div>"
      ],
      "text/plain": [
       "   campaign_launch_delay_days campaign_launch_delay\n",
       "0                         256     256 days 15:35:00\n",
       "1                           0       0 days 00:46:23\n",
       "2                          72      72 days 17:39:08\n",
       "3                          60      60 days 07:13:43\n",
       "4                           2       2 days 19:47:54"
      ]
     },
     "execution_count": 116,
     "metadata": {},
     "output_type": "execute_result"
    }
   ],
   "source": [
    "df3[['campaign_launch_delay_days','campaign_launch_delay']].head()"
   ]
  },
  {
   "cell_type": "code",
   "execution_count": 117,
   "metadata": {},
   "outputs": [],
   "source": [
    "df3['campaign_launch_delay_secs']=df3['campaign_launch_delay'].dt.seconds"
   ]
  },
  {
   "cell_type": "code",
   "execution_count": 118,
   "metadata": {},
   "outputs": [],
   "source": [
    "df3['launched_at_year'] = df3['launched_at'].dt.year\n",
    "df3['launched_at_month'] = df3['launched_at'].dt.month\n",
    "df3['launched_at_day'] = df3['launched_at'].dt.day\n",
    "df3['launched_at_hour'] = df3['launched_at'].dt.hour"
   ]
  },
  {
   "cell_type": "code",
   "execution_count": 119,
   "metadata": {},
   "outputs": [],
   "source": [
    "df3['deadline_year'] = df3['deadline'].dt.year\n",
    "df3['deadline_month'] = df3['deadline'].dt.month\n",
    "df3['deadline_day'] = df3['deadline'].dt.day\n",
    "df3['deadline_hour'] = df3['deadline'].dt.hour"
   ]
  },
  {
   "cell_type": "code",
   "execution_count": 120,
   "metadata": {},
   "outputs": [],
   "source": [
    "df3['created_at_year'] = df3['created_at'].dt.year\n",
    "df3['created_at_month'] = df3['created_at'].dt.month\n",
    "df3['created_at_day'] = df3['created_at'].dt.day\n",
    "df3['created_at_hour'] = df3['created_at'].dt.hour"
   ]
  },
  {
   "cell_type": "code",
   "execution_count": 121,
   "metadata": {},
   "outputs": [],
   "source": [
    "df3=df3.drop(columns = ['deadline','launched_at','campaign_launch_delay','created_at',\n",
    "                       'campaign_duration',0],axis =1)"
   ]
  },
  {
   "cell_type": "code",
   "execution_count": 122,
   "metadata": {},
   "outputs": [],
   "source": [
    "numerical_features = ['fx_rate','goal',\n",
    "                     'static_usd_rate','launched_at_year','campaign_duration_days',\n",
    "                     'launched_at_month','launched_at_day','launched_at_hour','deadline_year',\n",
    "                     'deadline_month','created_at_year','created_at_month','created_at_day',\n",
    "                     'created_at_hour','campaign_launch_delay_days','campaign_launch_delay_secs']\n",
    "cat_features = ['country','creator','currency','current_currency','location',\n",
    "               'usd_type','category','sub-category']\n",
    "bool_features = ['currency_trailing_code','staff_pick']"
   ]
  },
  {
   "cell_type": "code",
   "execution_count": 123,
   "metadata": {},
   "outputs": [
    {
     "data": {
      "text/plain": [
       "Index(['original_country', 'creator', 'currency', 'currency_trailing_code',\n",
       "       'current_currency', 'fx_rate', 'goal', 'location', 'staff_pick',\n",
       "       'state', 'static_usd_rate', 'usd_type', 'category', 'sub-category',\n",
       "       'campaign_duration_days', 'campaign_launch_delay_days',\n",
       "       'campaign_launch_delay_secs', 'launched_at_year', 'launched_at_month',\n",
       "       'launched_at_day', 'launched_at_hour', 'deadline_year',\n",
       "       'deadline_month', 'deadline_day', 'deadline_hour', 'created_at_year',\n",
       "       'created_at_month', 'created_at_day', 'created_at_hour'],\n",
       "      dtype='object')"
      ]
     },
     "execution_count": 123,
     "metadata": {},
     "output_type": "execute_result"
    }
   ],
   "source": [
    "df5.columns"
   ]
  },
  {
   "cell_type": "code",
   "execution_count": 124,
   "metadata": {},
   "outputs": [],
   "source": [
    "df4 = df3[df3['state'] != 'canceled']"
   ]
  },
  {
   "cell_type": "code",
   "execution_count": 125,
   "metadata": {},
   "outputs": [],
   "source": [
    "df5 = df4[df4['state'] != 'suspended']"
   ]
  },
  {
   "cell_type": "code",
   "execution_count": 126,
   "metadata": {},
   "outputs": [],
   "source": [
    "df5=df5.drop(columns = ['disable_communication', 'is_starrable', 'profile','spotlight',\n",
    "                       'backers_count','converted_pledged_amount','pledged','usd_pledged'],axis =1)\n"
   ]
  },
  {
   "cell_type": "code",
   "execution_count": 127,
   "metadata": {},
   "outputs": [],
   "source": [
    "df5 = df5.rename(columns = {\"country\": \"original_country\"})"
   ]
  },
  {
   "cell_type": "code",
   "execution_count": 128,
   "metadata": {},
   "outputs": [],
   "source": [
    "nunique = df5.apply(pd.Series.nunique)\n",
    "cols_to_drop = nunique[nunique == 1].index\n",
    "#df6 = X_test_encoded.drop(cols_to_drop, axis=1)"
   ]
  },
  {
   "cell_type": "code",
   "execution_count": 129,
   "metadata": {},
   "outputs": [
    {
     "data": {
      "text/plain": [
       "Index([], dtype='object')"
      ]
     },
     "execution_count": 129,
     "metadata": {},
     "output_type": "execute_result"
    }
   ],
   "source": [
    "cols_to_drop"
   ]
  },
  {
   "cell_type": "code",
   "execution_count": 130,
   "metadata": {},
   "outputs": [],
   "source": [
    "df5.to_csv('../traindata.csv', index=False)"
   ]
  },
  {
   "cell_type": "code",
   "execution_count": null,
   "metadata": {},
   "outputs": [],
   "source": []
  },
  {
   "cell_type": "code",
   "execution_count": null,
   "metadata": {},
   "outputs": [],
   "source": []
  },
  {
   "cell_type": "code",
   "execution_count": null,
   "metadata": {},
   "outputs": [],
   "source": []
  }
 ],
 "metadata": {
  "kernelspec": {
   "display_name": "Python 3",
   "language": "python",
   "name": "python3"
  },
  "language_info": {
   "codemirror_mode": {
    "name": "ipython",
    "version": 3
   },
   "file_extension": ".py",
   "mimetype": "text/x-python",
   "name": "python",
   "nbconvert_exporter": "python",
   "pygments_lexer": "ipython3",
   "version": "3.7.3"
  }
 },
 "nbformat": 4,
 "nbformat_minor": 2
}
