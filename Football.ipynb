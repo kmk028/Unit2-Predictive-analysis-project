{
 "cells": [
  {
   "cell_type": "code",
   "execution_count": 1,
   "metadata": {},
   "outputs": [],
   "source": [
    "from glob import glob\n",
    "import pandas as pd\n",
    "import numpy as np\n",
    "import matplotlib.pyplot as plt\n",
    "import pandas as pd\n",
    "import pandas_profiling\n",
    "import datetime\n",
    "import json\n",
    "from sklearn.model_selection import train_test_split, RandomizedSearchCV\n",
    "from sklearn.pipeline import Pipeline\n",
    "from sklearn.metrics import  accuracy_score, classification_report, confusion_matrix\n",
    "from xgboost import XGBClassifier\n",
    "from scipy.stats import randint, uniform\n",
    "import category_encoders as ce\n",
    "from sklearn.preprocessing import StandardScaler\n",
    "from sklearn.impute import SimpleImputer\n",
    "from sklearn.compose import ColumnTransformer\n",
    "from sklearn.model_selection import GridSearchCV\n",
    "import seaborn as sns\n",
    "import plotly.express as px\n",
    "import plotly.graph_objects as go\n",
    "from sklearn.utils.multiclass import unique_labels\n",
    "#import plotly.plotly as py\n",
    "from sklearn.ensemble import RandomForestClassifier"
   ]
  },
  {
   "cell_type": "code",
   "execution_count": 2,
   "metadata": {},
   "outputs": [],
   "source": [
    " master = pd.DataFrame([[0]*37],columns=['backers_count', 'blurb', 'category', 'converted_pledged_amount',\n",
    "       'country', 'created_at', 'creator', 'currency', 'currency_symbol',\n",
    "       'currency_trailing_code', 'current_currency', 'deadline',\n",
    "       'disable_communication', 'friends', 'fx_rate', 'goal', 'id',\n",
    "       'is_backing', 'is_starrable', 'is_starred', 'launched_at', 'location',\n",
    "       'name', 'permissions', 'photo', 'pledged', 'profile', 'slug',\n",
    "       'source_url', 'spotlight', 'staff_pick', 'state', 'state_changed_at',\n",
    "       'static_usd_rate', 'urls', 'usd_pledged', 'usd_type'])"
   ]
  },
  {
   "cell_type": "code",
   "execution_count": 3,
   "metadata": {},
   "outputs": [],
   "source": [
    "for path in glob('Kickstarter_2019-08-15T03_20_03_022Z/*.csv'):\n",
    "    df = pd.read_csv(path,error_bad_lines=False)\n",
    "    master = pd.concat([df,master])"
   ]
  },
  {
   "cell_type": "code",
   "execution_count": 4,
   "metadata": {},
   "outputs": [
    {
     "data": {
      "text/plain": [
       "(207622, 37)"
      ]
     },
     "execution_count": 4,
     "metadata": {},
     "output_type": "execute_result"
    }
   ],
   "source": [
    "master.shape"
   ]
  },
  {
   "cell_type": "code",
   "execution_count": 5,
   "metadata": {},
   "outputs": [],
   "source": [
    "# profile = master.profile_report(title='Pandas Profiling Report')\n",
    "# profile.to_file(output_file=\"output.html\")"
   ]
  },
  {
   "cell_type": "code",
   "execution_count": 6,
   "metadata": {
    "scrolled": true
   },
   "outputs": [],
   "source": [
    "master = master.drop(columns = ['friends','is_backing','is_starred','permissions','photo'\n",
    "                               ,'currency_symbol','urls','source_url','id','name','slug'])"
   ]
  },
  {
   "cell_type": "code",
   "execution_count": 7,
   "metadata": {},
   "outputs": [
    {
     "data": {
      "text/html": [
       "<div>\n",
       "<style scoped>\n",
       "    .dataframe tbody tr th:only-of-type {\n",
       "        vertical-align: middle;\n",
       "    }\n",
       "\n",
       "    .dataframe tbody tr th {\n",
       "        vertical-align: top;\n",
       "    }\n",
       "\n",
       "    .dataframe thead th {\n",
       "        text-align: right;\n",
       "    }\n",
       "</style>\n",
       "<table border=\"1\" class=\"dataframe\">\n",
       "  <thead>\n",
       "    <tr style=\"text-align: right;\">\n",
       "      <th></th>\n",
       "      <th>backers_count</th>\n",
       "      <th>blurb</th>\n",
       "      <th>category</th>\n",
       "      <th>converted_pledged_amount</th>\n",
       "      <th>country</th>\n",
       "      <th>created_at</th>\n",
       "      <th>creator</th>\n",
       "      <th>currency</th>\n",
       "      <th>currency_trailing_code</th>\n",
       "      <th>current_currency</th>\n",
       "      <th>...</th>\n",
       "      <th>location</th>\n",
       "      <th>pledged</th>\n",
       "      <th>profile</th>\n",
       "      <th>spotlight</th>\n",
       "      <th>staff_pick</th>\n",
       "      <th>state</th>\n",
       "      <th>state_changed_at</th>\n",
       "      <th>static_usd_rate</th>\n",
       "      <th>usd_pledged</th>\n",
       "      <th>usd_type</th>\n",
       "    </tr>\n",
       "  </thead>\n",
       "  <tbody>\n",
       "    <tr>\n",
       "      <th>0</th>\n",
       "      <td>104</td>\n",
       "      <td>Best value in Cortex-M programming &amp; debugging...</td>\n",
       "      <td>{\"id\":334,\"name\":\"DIY Electronics\",\"slug\":\"tec...</td>\n",
       "      <td>4415</td>\n",
       "      <td>US</td>\n",
       "      <td>1507871679</td>\n",
       "      <td>{\"id\":1182544591,\"name\":\"Dmitry\",\"is_registere...</td>\n",
       "      <td>USD</td>\n",
       "      <td>1</td>\n",
       "      <td>USD</td>\n",
       "      <td>...</td>\n",
       "      <td>{\"id\":2455920,\"name\":\"Mountain View\",\"slug\":\"m...</td>\n",
       "      <td>4415.0</td>\n",
       "      <td>{\"id\":3182251,\"project_id\":3182251,\"state\":\"in...</td>\n",
       "      <td>0</td>\n",
       "      <td>0</td>\n",
       "      <td>failed</td>\n",
       "      <td>1535230179</td>\n",
       "      <td>1.000000</td>\n",
       "      <td>4415.000000</td>\n",
       "      <td>domestic</td>\n",
       "    </tr>\n",
       "    <tr>\n",
       "      <th>1</th>\n",
       "      <td>1</td>\n",
       "      <td>PARENTHOOD - The (Brand New!) Musical Revue is...</td>\n",
       "      <td>{\"id\":284,\"name\":\"Musical\",\"slug\":\"theater/mus...</td>\n",
       "      <td>1</td>\n",
       "      <td>GB</td>\n",
       "      <td>1535457814</td>\n",
       "      <td>{\"id\":419452966,\"name\":\"Emily Moody\",\"is_regis...</td>\n",
       "      <td>GBP</td>\n",
       "      <td>0</td>\n",
       "      <td>USD</td>\n",
       "      <td>...</td>\n",
       "      <td>{\"id\":44418,\"name\":\"London\",\"slug\":\"london-gb\"...</td>\n",
       "      <td>1.0</td>\n",
       "      <td>{\"id\":3458158,\"project_id\":3458158,\"state\":\"in...</td>\n",
       "      <td>0</td>\n",
       "      <td>0</td>\n",
       "      <td>failed</td>\n",
       "      <td>1538052598</td>\n",
       "      <td>1.285752</td>\n",
       "      <td>1.285752</td>\n",
       "      <td>domestic</td>\n",
       "    </tr>\n",
       "    <tr>\n",
       "      <th>2</th>\n",
       "      <td>1</td>\n",
       "      <td>porting an app for identifying organic compoun...</td>\n",
       "      <td>{\"id\":332,\"name\":\"Apps\",\"slug\":\"technology/app...</td>\n",
       "      <td>1</td>\n",
       "      <td>NL</td>\n",
       "      <td>1525968644</td>\n",
       "      <td>{\"id\":1981812785,\"name\":\"Matthieu van Sluijs\",...</td>\n",
       "      <td>EUR</td>\n",
       "      <td>0</td>\n",
       "      <td>USD</td>\n",
       "      <td>...</td>\n",
       "      <td>{\"id\":726874,\"name\":\"The Hague\",\"slug\":\"the-ha...</td>\n",
       "      <td>1.0</td>\n",
       "      <td>{\"id\":3378332,\"project_id\":3378332,\"state\":\"in...</td>\n",
       "      <td>0</td>\n",
       "      <td>0</td>\n",
       "      <td>failed</td>\n",
       "      <td>1537436992</td>\n",
       "      <td>1.173151</td>\n",
       "      <td>1.173151</td>\n",
       "      <td>domestic</td>\n",
       "    </tr>\n",
       "    <tr>\n",
       "      <th>3</th>\n",
       "      <td>62</td>\n",
       "      <td>I am a singer/songwriter from Miami Beach work...</td>\n",
       "      <td>{\"id\":42,\"name\":\"Pop\",\"slug\":\"music/pop\",\"posi...</td>\n",
       "      <td>8211</td>\n",
       "      <td>US</td>\n",
       "      <td>1314912713</td>\n",
       "      <td>{\"id\":1503975448,\"name\":\"Cat Shell\",\"slug\":\"ca...</td>\n",
       "      <td>USD</td>\n",
       "      <td>1</td>\n",
       "      <td>USD</td>\n",
       "      <td>...</td>\n",
       "      <td>{\"id\":2450080,\"name\":\"Miami Beach\",\"slug\":\"mia...</td>\n",
       "      <td>8211.0</td>\n",
       "      <td>{\"id\":49312,\"project_id\":49312,\"state\":\"inacti...</td>\n",
       "      <td>1</td>\n",
       "      <td>0</td>\n",
       "      <td>successful</td>\n",
       "      <td>1325310338</td>\n",
       "      <td>1.000000</td>\n",
       "      <td>8211.000000</td>\n",
       "      <td>domestic</td>\n",
       "    </tr>\n",
       "    <tr>\n",
       "      <th>4</th>\n",
       "      <td>34</td>\n",
       "      <td>Support your local DIY grunge grrrl band creat...</td>\n",
       "      <td>{\"id\":321,\"name\":\"Punk\",\"slug\":\"music/punk\",\"p...</td>\n",
       "      <td>1700</td>\n",
       "      <td>US</td>\n",
       "      <td>1501983823</td>\n",
       "      <td>{\"id\":593243081,\"name\":\"Shrinking Violent\",\"is...</td>\n",
       "      <td>USD</td>\n",
       "      <td>1</td>\n",
       "      <td>USD</td>\n",
       "      <td>...</td>\n",
       "      <td>{\"id\":2504633,\"name\":\"Tempe\",\"slug\":\"tempe-az\"...</td>\n",
       "      <td>1700.0</td>\n",
       "      <td>{\"id\":3098727,\"project_id\":3098727,\"state\":\"in...</td>\n",
       "      <td>1</td>\n",
       "      <td>0</td>\n",
       "      <td>successful</td>\n",
       "      <td>1506720698</td>\n",
       "      <td>1.000000</td>\n",
       "      <td>1700.000000</td>\n",
       "      <td>domestic</td>\n",
       "    </tr>\n",
       "  </tbody>\n",
       "</table>\n",
       "<p>5 rows × 26 columns</p>\n",
       "</div>"
      ],
      "text/plain": [
       "   backers_count                                              blurb  \\\n",
       "0            104  Best value in Cortex-M programming & debugging...   \n",
       "1              1  PARENTHOOD - The (Brand New!) Musical Revue is...   \n",
       "2              1  porting an app for identifying organic compoun...   \n",
       "3             62  I am a singer/songwriter from Miami Beach work...   \n",
       "4             34  Support your local DIY grunge grrrl band creat...   \n",
       "\n",
       "                                            category  \\\n",
       "0  {\"id\":334,\"name\":\"DIY Electronics\",\"slug\":\"tec...   \n",
       "1  {\"id\":284,\"name\":\"Musical\",\"slug\":\"theater/mus...   \n",
       "2  {\"id\":332,\"name\":\"Apps\",\"slug\":\"technology/app...   \n",
       "3  {\"id\":42,\"name\":\"Pop\",\"slug\":\"music/pop\",\"posi...   \n",
       "4  {\"id\":321,\"name\":\"Punk\",\"slug\":\"music/punk\",\"p...   \n",
       "\n",
       "   converted_pledged_amount country  created_at  \\\n",
       "0                      4415      US  1507871679   \n",
       "1                         1      GB  1535457814   \n",
       "2                         1      NL  1525968644   \n",
       "3                      8211      US  1314912713   \n",
       "4                      1700      US  1501983823   \n",
       "\n",
       "                                             creator currency  \\\n",
       "0  {\"id\":1182544591,\"name\":\"Dmitry\",\"is_registere...      USD   \n",
       "1  {\"id\":419452966,\"name\":\"Emily Moody\",\"is_regis...      GBP   \n",
       "2  {\"id\":1981812785,\"name\":\"Matthieu van Sluijs\",...      EUR   \n",
       "3  {\"id\":1503975448,\"name\":\"Cat Shell\",\"slug\":\"ca...      USD   \n",
       "4  {\"id\":593243081,\"name\":\"Shrinking Violent\",\"is...      USD   \n",
       "\n",
       "   currency_trailing_code current_currency  ...  \\\n",
       "0                       1              USD  ...   \n",
       "1                       0              USD  ...   \n",
       "2                       0              USD  ...   \n",
       "3                       1              USD  ...   \n",
       "4                       1              USD  ...   \n",
       "\n",
       "                                            location  pledged  \\\n",
       "0  {\"id\":2455920,\"name\":\"Mountain View\",\"slug\":\"m...   4415.0   \n",
       "1  {\"id\":44418,\"name\":\"London\",\"slug\":\"london-gb\"...      1.0   \n",
       "2  {\"id\":726874,\"name\":\"The Hague\",\"slug\":\"the-ha...      1.0   \n",
       "3  {\"id\":2450080,\"name\":\"Miami Beach\",\"slug\":\"mia...   8211.0   \n",
       "4  {\"id\":2504633,\"name\":\"Tempe\",\"slug\":\"tempe-az\"...   1700.0   \n",
       "\n",
       "                                             profile  spotlight  staff_pick  \\\n",
       "0  {\"id\":3182251,\"project_id\":3182251,\"state\":\"in...          0           0   \n",
       "1  {\"id\":3458158,\"project_id\":3458158,\"state\":\"in...          0           0   \n",
       "2  {\"id\":3378332,\"project_id\":3378332,\"state\":\"in...          0           0   \n",
       "3  {\"id\":49312,\"project_id\":49312,\"state\":\"inacti...          1           0   \n",
       "4  {\"id\":3098727,\"project_id\":3098727,\"state\":\"in...          1           0   \n",
       "\n",
       "        state state_changed_at  static_usd_rate  usd_pledged  usd_type  \n",
       "0      failed       1535230179         1.000000  4415.000000  domestic  \n",
       "1      failed       1538052598         1.285752     1.285752  domestic  \n",
       "2      failed       1537436992         1.173151     1.173151  domestic  \n",
       "3  successful       1325310338         1.000000  8211.000000  domestic  \n",
       "4  successful       1506720698         1.000000  1700.000000  domestic  \n",
       "\n",
       "[5 rows x 26 columns]"
      ]
     },
     "execution_count": 7,
     "metadata": {},
     "output_type": "execute_result"
    }
   ],
   "source": [
    "master.head()"
   ]
  },
  {
   "cell_type": "code",
   "execution_count": 8,
   "metadata": {},
   "outputs": [
    {
     "data": {
      "text/plain": [
       "'{\"id\":334,\"name\":\"DIY Electronics\",\"slug\":\"technology/diy electronics\",\"position\":4,\"parent_id\":16,\"color\":6526716,\"urls\":{\"web\":{\"discover\":\"http://www.kickstarter.com/discover/categories/technology/diy%20electronics\"}}}'"
      ]
     },
     "execution_count": 8,
     "metadata": {},
     "output_type": "execute_result"
    }
   ],
   "source": [
    "# need to get category and sub category for this. \n",
    "master['category'].head()[0]"
   ]
  },
  {
   "cell_type": "code",
   "execution_count": 9,
   "metadata": {},
   "outputs": [],
   "source": [
    "master['created_at'] = master['created_at'].apply(lambda x: datetime.datetime.fromtimestamp(x))\n",
    "master['launched_at'] = master['launched_at'].apply(lambda x: datetime.datetime.fromtimestamp(x))\n",
    "master['deadline'] = master['deadline'].apply(lambda x: datetime.datetime.fromtimestamp(x))\n",
    "#master['deadline'] = master['deadline'].apply(lambda x: datetime.datetime.fromtimestamp(x).strftime('%c'))"
   ]
  },
  {
   "cell_type": "code",
   "execution_count": 10,
   "metadata": {},
   "outputs": [
    {
     "data": {
      "text/html": [
       "<div>\n",
       "<style scoped>\n",
       "    .dataframe tbody tr th:only-of-type {\n",
       "        vertical-align: middle;\n",
       "    }\n",
       "\n",
       "    .dataframe tbody tr th {\n",
       "        vertical-align: top;\n",
       "    }\n",
       "\n",
       "    .dataframe thead th {\n",
       "        text-align: right;\n",
       "    }\n",
       "</style>\n",
       "<table border=\"1\" class=\"dataframe\">\n",
       "  <thead>\n",
       "    <tr style=\"text-align: right;\">\n",
       "      <th></th>\n",
       "      <th>created_at</th>\n",
       "      <th>launched_at</th>\n",
       "      <th>deadline</th>\n",
       "      <th>state</th>\n",
       "    </tr>\n",
       "  </thead>\n",
       "  <tbody>\n",
       "    <tr>\n",
       "      <th>2241</th>\n",
       "      <td>2014-06-29 11:56:28</td>\n",
       "      <td>2014-07-11 18:10:07</td>\n",
       "      <td>2014-08-10 18:10:07</td>\n",
       "      <td>successful</td>\n",
       "    </tr>\n",
       "    <tr>\n",
       "      <th>3008</th>\n",
       "      <td>2017-01-22 20:04:40</td>\n",
       "      <td>2017-01-22 21:25:45</td>\n",
       "      <td>2017-02-21 20:04:00</td>\n",
       "      <td>successful</td>\n",
       "    </tr>\n",
       "    <tr>\n",
       "      <th>1805</th>\n",
       "      <td>2018-01-15 16:37:00</td>\n",
       "      <td>2018-03-16 21:28:46</td>\n",
       "      <td>2018-04-15 21:28:46</td>\n",
       "      <td>failed</td>\n",
       "    </tr>\n",
       "    <tr>\n",
       "      <th>2250</th>\n",
       "      <td>2011-01-15 15:23:16</td>\n",
       "      <td>2011-02-05 06:33:54</td>\n",
       "      <td>2011-03-07 06:33:54</td>\n",
       "      <td>successful</td>\n",
       "    </tr>\n",
       "    <tr>\n",
       "      <th>2186</th>\n",
       "      <td>2013-07-17 17:22:26</td>\n",
       "      <td>2013-08-02 20:44:53</td>\n",
       "      <td>2013-09-04 20:59:00</td>\n",
       "      <td>successful</td>\n",
       "    </tr>\n",
       "    <tr>\n",
       "      <th>1310</th>\n",
       "      <td>2018-03-23 15:42:59</td>\n",
       "      <td>2018-03-30 00:06:50</td>\n",
       "      <td>2018-04-30 23:59:00</td>\n",
       "      <td>successful</td>\n",
       "    </tr>\n",
       "    <tr>\n",
       "      <th>18</th>\n",
       "      <td>2012-09-23 12:59:13</td>\n",
       "      <td>2012-10-10 07:46:59</td>\n",
       "      <td>2012-11-09 07:46:59</td>\n",
       "      <td>successful</td>\n",
       "    </tr>\n",
       "    <tr>\n",
       "      <th>2817</th>\n",
       "      <td>2015-03-17 15:54:05</td>\n",
       "      <td>2015-03-26 14:49:02</td>\n",
       "      <td>2015-04-25 14:49:02</td>\n",
       "      <td>canceled</td>\n",
       "    </tr>\n",
       "    <tr>\n",
       "      <th>3035</th>\n",
       "      <td>2018-01-09 08:01:30</td>\n",
       "      <td>2018-05-01 06:07:45</td>\n",
       "      <td>2018-05-31 06:07:45</td>\n",
       "      <td>successful</td>\n",
       "    </tr>\n",
       "    <tr>\n",
       "      <th>3258</th>\n",
       "      <td>2017-05-19 02:05:50</td>\n",
       "      <td>2017-05-31 03:15:46</td>\n",
       "      <td>2017-06-10 03:15:46</td>\n",
       "      <td>successful</td>\n",
       "    </tr>\n",
       "  </tbody>\n",
       "</table>\n",
       "</div>"
      ],
      "text/plain": [
       "              created_at         launched_at            deadline       state\n",
       "2241 2014-06-29 11:56:28 2014-07-11 18:10:07 2014-08-10 18:10:07  successful\n",
       "3008 2017-01-22 20:04:40 2017-01-22 21:25:45 2017-02-21 20:04:00  successful\n",
       "1805 2018-01-15 16:37:00 2018-03-16 21:28:46 2018-04-15 21:28:46      failed\n",
       "2250 2011-01-15 15:23:16 2011-02-05 06:33:54 2011-03-07 06:33:54  successful\n",
       "2186 2013-07-17 17:22:26 2013-08-02 20:44:53 2013-09-04 20:59:00  successful\n",
       "1310 2018-03-23 15:42:59 2018-03-30 00:06:50 2018-04-30 23:59:00  successful\n",
       "18   2012-09-23 12:59:13 2012-10-10 07:46:59 2012-11-09 07:46:59  successful\n",
       "2817 2015-03-17 15:54:05 2015-03-26 14:49:02 2015-04-25 14:49:02    canceled\n",
       "3035 2018-01-09 08:01:30 2018-05-01 06:07:45 2018-05-31 06:07:45  successful\n",
       "3258 2017-05-19 02:05:50 2017-05-31 03:15:46 2017-06-10 03:15:46  successful"
      ]
     },
     "execution_count": 10,
     "metadata": {},
     "output_type": "execute_result"
    }
   ],
   "source": [
    "master[['created_at','launched_at','deadline','state']].sample(10)"
   ]
  },
  {
   "cell_type": "code",
   "execution_count": 11,
   "metadata": {},
   "outputs": [],
   "source": [
    "master['category'] = master['category'].astype(str)"
   ]
  },
  {
   "cell_type": "code",
   "execution_count": 12,
   "metadata": {},
   "outputs": [],
   "source": [
    "master['category'] = master['category'].apply(json.loads)"
   ]
  },
  {
   "cell_type": "code",
   "execution_count": 13,
   "metadata": {},
   "outputs": [],
   "source": [
    "df = pd.concat([master.drop(['category'], axis=1), master['category'].apply(pd.Series)], axis=1)"
   ]
  },
  {
   "cell_type": "code",
   "execution_count": 14,
   "metadata": {},
   "outputs": [
    {
     "data": {
      "text/html": [
       "<div>\n",
       "<style scoped>\n",
       "    .dataframe tbody tr th:only-of-type {\n",
       "        vertical-align: middle;\n",
       "    }\n",
       "\n",
       "    .dataframe tbody tr th {\n",
       "        vertical-align: top;\n",
       "    }\n",
       "\n",
       "    .dataframe thead th {\n",
       "        text-align: right;\n",
       "    }\n",
       "</style>\n",
       "<table border=\"1\" class=\"dataframe\">\n",
       "  <thead>\n",
       "    <tr style=\"text-align: right;\">\n",
       "      <th></th>\n",
       "      <th>slug</th>\n",
       "      <th>name</th>\n",
       "    </tr>\n",
       "  </thead>\n",
       "  <tbody>\n",
       "    <tr>\n",
       "      <th>0</th>\n",
       "      <td>technology/diy electronics</td>\n",
       "      <td>DIY Electronics</td>\n",
       "    </tr>\n",
       "    <tr>\n",
       "      <th>1</th>\n",
       "      <td>theater/musical</td>\n",
       "      <td>Musical</td>\n",
       "    </tr>\n",
       "    <tr>\n",
       "      <th>2</th>\n",
       "      <td>technology/apps</td>\n",
       "      <td>Apps</td>\n",
       "    </tr>\n",
       "    <tr>\n",
       "      <th>3</th>\n",
       "      <td>music/pop</td>\n",
       "      <td>Pop</td>\n",
       "    </tr>\n",
       "    <tr>\n",
       "      <th>4</th>\n",
       "      <td>music/punk</td>\n",
       "      <td>Punk</td>\n",
       "    </tr>\n",
       "  </tbody>\n",
       "</table>\n",
       "</div>"
      ],
      "text/plain": [
       "                         slug             name\n",
       "0  technology/diy electronics  DIY Electronics\n",
       "1             theater/musical          Musical\n",
       "2             technology/apps             Apps\n",
       "3                   music/pop              Pop\n",
       "4                  music/punk             Punk"
      ]
     },
     "execution_count": 14,
     "metadata": {},
     "output_type": "execute_result"
    }
   ],
   "source": [
    "df[['slug','name']].head()"
   ]
  },
  {
   "cell_type": "code",
   "execution_count": 15,
   "metadata": {},
   "outputs": [],
   "source": [
    "df=df.drop(columns = ['name','parent_id','position','id','urls','color','state_changed_at'],axis =1)"
   ]
  },
  {
   "cell_type": "code",
   "execution_count": 16,
   "metadata": {},
   "outputs": [],
   "source": [
    "new = df['slug'].str.split(\"/\", n = 1, expand = True) \n",
    "df[\"category\"]= new[0]\n",
    "df[\"sub-category\"] = new[1]\n",
    "df.drop(columns =['slug'], inplace = True)"
   ]
  },
  {
   "cell_type": "code",
   "execution_count": 17,
   "metadata": {
    "scrolled": true
   },
   "outputs": [
    {
     "data": {
      "text/html": [
       "<div>\n",
       "<style scoped>\n",
       "    .dataframe tbody tr th:only-of-type {\n",
       "        vertical-align: middle;\n",
       "    }\n",
       "\n",
       "    .dataframe tbody tr th {\n",
       "        vertical-align: top;\n",
       "    }\n",
       "\n",
       "    .dataframe thead th {\n",
       "        text-align: right;\n",
       "    }\n",
       "</style>\n",
       "<table border=\"1\" class=\"dataframe\">\n",
       "  <thead>\n",
       "    <tr style=\"text-align: right;\">\n",
       "      <th></th>\n",
       "      <th>category</th>\n",
       "      <th>sub-category</th>\n",
       "    </tr>\n",
       "  </thead>\n",
       "  <tbody>\n",
       "    <tr>\n",
       "      <th>0</th>\n",
       "      <td>technology</td>\n",
       "      <td>diy electronics</td>\n",
       "    </tr>\n",
       "    <tr>\n",
       "      <th>1</th>\n",
       "      <td>theater</td>\n",
       "      <td>musical</td>\n",
       "    </tr>\n",
       "    <tr>\n",
       "      <th>2</th>\n",
       "      <td>technology</td>\n",
       "      <td>apps</td>\n",
       "    </tr>\n",
       "    <tr>\n",
       "      <th>3</th>\n",
       "      <td>music</td>\n",
       "      <td>pop</td>\n",
       "    </tr>\n",
       "    <tr>\n",
       "      <th>4</th>\n",
       "      <td>music</td>\n",
       "      <td>punk</td>\n",
       "    </tr>\n",
       "  </tbody>\n",
       "</table>\n",
       "</div>"
      ],
      "text/plain": [
       "     category     sub-category\n",
       "0  technology  diy electronics\n",
       "1     theater          musical\n",
       "2  technology             apps\n",
       "3       music              pop\n",
       "4       music             punk"
      ]
     },
     "execution_count": 17,
     "metadata": {},
     "output_type": "execute_result"
    }
   ],
   "source": [
    "df[['category','sub-category']].head()"
   ]
  },
  {
   "cell_type": "code",
   "execution_count": 18,
   "metadata": {},
   "outputs": [],
   "source": [
    "df['campaign_duration'] = df['deadline'] - df['launched_at'] \n",
    "#type(df['launched_at'].head()[0])"
   ]
  },
  {
   "cell_type": "code",
   "execution_count": 19,
   "metadata": {},
   "outputs": [
    {
     "data": {
      "text/html": [
       "<div>\n",
       "<style scoped>\n",
       "    .dataframe tbody tr th:only-of-type {\n",
       "        vertical-align: middle;\n",
       "    }\n",
       "\n",
       "    .dataframe tbody tr th {\n",
       "        vertical-align: top;\n",
       "    }\n",
       "\n",
       "    .dataframe thead th {\n",
       "        text-align: right;\n",
       "    }\n",
       "</style>\n",
       "<table border=\"1\" class=\"dataframe\">\n",
       "  <thead>\n",
       "    <tr style=\"text-align: right;\">\n",
       "      <th></th>\n",
       "      <th>campaign_duration</th>\n",
       "      <th>deadline</th>\n",
       "      <th>launched_at</th>\n",
       "      <th>state</th>\n",
       "    </tr>\n",
       "  </thead>\n",
       "  <tbody>\n",
       "    <tr>\n",
       "      <th>0</th>\n",
       "      <td>60 days</td>\n",
       "      <td>2018-08-25 13:49:39</td>\n",
       "      <td>2018-06-26 13:49:39</td>\n",
       "      <td>failed</td>\n",
       "    </tr>\n",
       "    <tr>\n",
       "      <th>1</th>\n",
       "      <td>30 days</td>\n",
       "      <td>2018-09-27 05:49:57</td>\n",
       "      <td>2018-08-28 05:49:57</td>\n",
       "      <td>failed</td>\n",
       "    </tr>\n",
       "    <tr>\n",
       "      <th>2</th>\n",
       "      <td>60 days</td>\n",
       "      <td>2018-09-20 02:49:52</td>\n",
       "      <td>2018-07-22 02:49:52</td>\n",
       "      <td>failed</td>\n",
       "    </tr>\n",
       "    <tr>\n",
       "      <th>3</th>\n",
       "      <td>60 days</td>\n",
       "      <td>2011-12-30 21:45:36</td>\n",
       "      <td>2011-10-31 21:45:36</td>\n",
       "      <td>successful</td>\n",
       "    </tr>\n",
       "    <tr>\n",
       "      <th>4</th>\n",
       "      <td>52 days</td>\n",
       "      <td>2017-09-29 14:31:37</td>\n",
       "      <td>2017-08-08 14:31:37</td>\n",
       "      <td>successful</td>\n",
       "    </tr>\n",
       "  </tbody>\n",
       "</table>\n",
       "</div>"
      ],
      "text/plain": [
       "  campaign_duration            deadline         launched_at       state\n",
       "0           60 days 2018-08-25 13:49:39 2018-06-26 13:49:39      failed\n",
       "1           30 days 2018-09-27 05:49:57 2018-08-28 05:49:57      failed\n",
       "2           60 days 2018-09-20 02:49:52 2018-07-22 02:49:52      failed\n",
       "3           60 days 2011-12-30 21:45:36 2011-10-31 21:45:36  successful\n",
       "4           52 days 2017-09-29 14:31:37 2017-08-08 14:31:37  successful"
      ]
     },
     "execution_count": 19,
     "metadata": {},
     "output_type": "execute_result"
    }
   ],
   "source": [
    "df[['campaign_duration','deadline','launched_at','state']].head()"
   ]
  },
  {
   "cell_type": "code",
   "execution_count": 20,
   "metadata": {},
   "outputs": [],
   "source": [
    "df['campaign_launch_delay'] = df['launched_at'] - df['created_at'] "
   ]
  },
  {
   "cell_type": "code",
   "execution_count": 21,
   "metadata": {},
   "outputs": [
    {
     "data": {
      "text/plain": [
       "0   256 days 15:35:00\n",
       "1     0 days 00:46:23\n",
       "2    72 days 17:39:08\n",
       "3    60 days 07:13:43\n",
       "4     2 days 19:47:54\n",
       "Name: campaign_launch_delay, dtype: timedelta64[ns]"
      ]
     },
     "execution_count": 21,
     "metadata": {},
     "output_type": "execute_result"
    }
   ],
   "source": [
    "df['campaign_launch_delay'].head()"
   ]
  },
  {
   "cell_type": "code",
   "execution_count": 22,
   "metadata": {},
   "outputs": [],
   "source": [
    "df2 = df[df['state'] != ('live')]"
   ]
  },
  {
   "cell_type": "code",
   "execution_count": 23,
   "metadata": {},
   "outputs": [
    {
     "data": {
      "text/plain": [
       "successful    118183\n",
       "failed         74143\n",
       "canceled        8456\n",
       "suspended        632\n",
       "0                  1\n",
       "Name: state, dtype: int64"
      ]
     },
     "execution_count": 23,
     "metadata": {},
     "output_type": "execute_result"
    }
   ],
   "source": [
    "df2['state'].value_counts()"
   ]
  },
  {
   "cell_type": "code",
   "execution_count": 24,
   "metadata": {},
   "outputs": [],
   "source": [
    "df3 = df2[df2['state'] != 0]"
   ]
  },
  {
   "cell_type": "code",
   "execution_count": 25,
   "metadata": {},
   "outputs": [
    {
     "data": {
      "text/plain": [
       "successful    118183\n",
       "failed         74143\n",
       "canceled        8456\n",
       "suspended        632\n",
       "Name: state, dtype: int64"
      ]
     },
     "execution_count": 25,
     "metadata": {},
     "output_type": "execute_result"
    }
   ],
   "source": [
    "df3['state'].value_counts()"
   ]
  },
  {
   "cell_type": "code",
   "execution_count": 26,
   "metadata": {},
   "outputs": [],
   "source": [
    "df3=df3.drop(columns = ['blurb'],axis =1)"
   ]
  },
  {
   "cell_type": "code",
   "execution_count": 27,
   "metadata": {},
   "outputs": [],
   "source": [
    "df3['deadline'] = pd.to_datetime(df3['deadline'], infer_datetime_format=True)\n",
    "df3['launched_at'] = pd.to_datetime(df3['launched_at'], infer_datetime_format=True)\n",
    "#df3['campaign_launch_delay'] = pd.to_datetime(df3['campaign_launch_delay'], infer_datetime_format=True)\n",
    "df3['created_at'] = pd.to_datetime(df3['created_at'], infer_datetime_format=True)"
   ]
  },
  {
   "cell_type": "code",
   "execution_count": 28,
   "metadata": {},
   "outputs": [],
   "source": [
    "df3['campaign_duration_days']= df3['campaign_duration'].dt.days"
   ]
  },
  {
   "cell_type": "code",
   "execution_count": 29,
   "metadata": {},
   "outputs": [],
   "source": [
    "df3['campaign_launch_delay_days']=df3['campaign_launch_delay'].dt.days"
   ]
  },
  {
   "cell_type": "code",
   "execution_count": 30,
   "metadata": {},
   "outputs": [
    {
     "data": {
      "text/html": [
       "<div>\n",
       "<style scoped>\n",
       "    .dataframe tbody tr th:only-of-type {\n",
       "        vertical-align: middle;\n",
       "    }\n",
       "\n",
       "    .dataframe tbody tr th {\n",
       "        vertical-align: top;\n",
       "    }\n",
       "\n",
       "    .dataframe thead th {\n",
       "        text-align: right;\n",
       "    }\n",
       "</style>\n",
       "<table border=\"1\" class=\"dataframe\">\n",
       "  <thead>\n",
       "    <tr style=\"text-align: right;\">\n",
       "      <th></th>\n",
       "      <th>campaign_launch_delay_days</th>\n",
       "      <th>campaign_launch_delay</th>\n",
       "    </tr>\n",
       "  </thead>\n",
       "  <tbody>\n",
       "    <tr>\n",
       "      <th>0</th>\n",
       "      <td>256</td>\n",
       "      <td>256 days 15:35:00</td>\n",
       "    </tr>\n",
       "    <tr>\n",
       "      <th>1</th>\n",
       "      <td>0</td>\n",
       "      <td>0 days 00:46:23</td>\n",
       "    </tr>\n",
       "    <tr>\n",
       "      <th>2</th>\n",
       "      <td>72</td>\n",
       "      <td>72 days 17:39:08</td>\n",
       "    </tr>\n",
       "    <tr>\n",
       "      <th>3</th>\n",
       "      <td>60</td>\n",
       "      <td>60 days 07:13:43</td>\n",
       "    </tr>\n",
       "    <tr>\n",
       "      <th>4</th>\n",
       "      <td>2</td>\n",
       "      <td>2 days 19:47:54</td>\n",
       "    </tr>\n",
       "  </tbody>\n",
       "</table>\n",
       "</div>"
      ],
      "text/plain": [
       "   campaign_launch_delay_days campaign_launch_delay\n",
       "0                         256     256 days 15:35:00\n",
       "1                           0       0 days 00:46:23\n",
       "2                          72      72 days 17:39:08\n",
       "3                          60      60 days 07:13:43\n",
       "4                           2       2 days 19:47:54"
      ]
     },
     "execution_count": 30,
     "metadata": {},
     "output_type": "execute_result"
    }
   ],
   "source": [
    "df3[['campaign_launch_delay_days','campaign_launch_delay']].head()"
   ]
  },
  {
   "cell_type": "code",
   "execution_count": 31,
   "metadata": {},
   "outputs": [],
   "source": [
    "df3['campaign_launch_delay_secs']=df3['campaign_launch_delay'].dt.seconds"
   ]
  },
  {
   "cell_type": "code",
   "execution_count": 32,
   "metadata": {},
   "outputs": [],
   "source": [
    "df3['launched_at_year'] = df3['launched_at'].dt.year\n",
    "df3['launched_at_month'] = df3['launched_at'].dt.month\n",
    "df3['launched_at_day'] = df3['launched_at'].dt.day\n",
    "df3['launched_at_hour'] = df3['launched_at'].dt.hour"
   ]
  },
  {
   "cell_type": "code",
   "execution_count": 33,
   "metadata": {},
   "outputs": [],
   "source": [
    "df3['deadline_year'] = df3['deadline'].dt.year\n",
    "df3['deadline_month'] = df3['deadline'].dt.month\n",
    "df3['deadline_day'] = df3['deadline'].dt.day\n",
    "df3['deadline_hour'] = df3['deadline'].dt.hour"
   ]
  },
  {
   "cell_type": "code",
   "execution_count": 34,
   "metadata": {},
   "outputs": [],
   "source": [
    "df3['created_at_year'] = df3['created_at'].dt.year\n",
    "df3['created_at_month'] = df3['created_at'].dt.month\n",
    "df3['created_at_day'] = df3['created_at'].dt.day\n",
    "df3['created_at_hour'] = df3['created_at'].dt.hour"
   ]
  },
  {
   "cell_type": "code",
   "execution_count": 35,
   "metadata": {},
   "outputs": [],
   "source": [
    "df3=df3.drop(columns = ['deadline','launched_at','campaign_launch_delay','created_at',\n",
    "                       'campaign_duration'],axis =1)"
   ]
  },
  {
   "cell_type": "code",
   "execution_count": 36,
   "metadata": {},
   "outputs": [
    {
     "data": {
      "text/plain": [
       "Index([             'backers_count',   'converted_pledged_amount',\n",
       "                          'country',                    'creator',\n",
       "                         'currency',     'currency_trailing_code',\n",
       "                 'current_currency',      'disable_communication',\n",
       "                          'fx_rate',                       'goal',\n",
       "                     'is_starrable',                   'location',\n",
       "                          'pledged',                    'profile',\n",
       "                        'spotlight',                 'staff_pick',\n",
       "                            'state',            'static_usd_rate',\n",
       "                      'usd_pledged',                   'usd_type',\n",
       "                                  0,                   'category',\n",
       "                     'sub-category',     'campaign_duration_days',\n",
       "       'campaign_launch_delay_days', 'campaign_launch_delay_secs',\n",
       "                 'launched_at_year',          'launched_at_month',\n",
       "                  'launched_at_day',           'launched_at_hour',\n",
       "                    'deadline_year',             'deadline_month',\n",
       "                     'deadline_day',              'deadline_hour',\n",
       "                  'created_at_year',           'created_at_month',\n",
       "                   'created_at_day',            'created_at_hour'],\n",
       "      dtype='object')"
      ]
     },
     "execution_count": 36,
     "metadata": {},
     "output_type": "execute_result"
    }
   ],
   "source": [
    "df3.columns"
   ]
  },
  {
   "cell_type": "code",
   "execution_count": 37,
   "metadata": {},
   "outputs": [],
   "source": [
    "numerical_features = ['backers_count','converted_pledged_amount','fx_rate','goal','pledged',\n",
    "                     'static_usd_rate','usd_pledged','launched_at_year','campaign_duration_days',\n",
    "                     'launched_at_month','launched_at_day','launched_at_hour','deadline_year',\n",
    "                     'deadline_month','created_at_year','created_at_month','created_at_day',\n",
    "                     'created_at_hour','campaign_launch_delay_days','campaign_launch_delay_secs']\n",
    "cat_features = ['country','creator','currency','current_currency','location','profile',\n",
    "               'usd_type','category','sub-category']\n",
    "bool_features = ['currency_trailing_code','disable_communication','is_starrable',\n",
    "                'spotlight','staff_pick']"
   ]
  },
  {
   "cell_type": "code",
   "execution_count": 38,
   "metadata": {},
   "outputs": [
    {
     "data": {
      "text/plain": [
       "2015    36896\n",
       "2018    33011\n",
       "2016    29127\n",
       "2017    28778\n",
       "2014    28476\n",
       "2019    19417\n",
       "2013    11219\n",
       "2012     8951\n",
       "2011     3933\n",
       "2010     1362\n",
       "2009      244\n",
       "Name: created_at_year, dtype: int64"
      ]
     },
     "execution_count": 38,
     "metadata": {},
     "output_type": "execute_result"
    }
   ],
   "source": [
    "df3['created_at_year'].value_counts()"
   ]
  },
  {
   "cell_type": "code",
   "execution_count": 39,
   "metadata": {},
   "outputs": [],
   "source": [
    "df4 = df3[df3['state'] != 'canceled']"
   ]
  },
  {
   "cell_type": "code",
   "execution_count": 40,
   "metadata": {},
   "outputs": [],
   "source": [
    "df5 = df4[df4['state'] != 'suspended']"
   ]
  },
  {
   "cell_type": "code",
   "execution_count": 80,
   "metadata": {},
   "outputs": [
    {
     "data": {
      "text/plain": [
       "backers_count                 192326\n",
       "converted_pledged_amount      192326\n",
       "country                       192326\n",
       "creator                       192326\n",
       "currency                      192326\n",
       "currency_trailing_code        192326\n",
       "current_currency              192326\n",
       "disable_communication         192326\n",
       "fx_rate                       192326\n",
       "goal                          192326\n",
       "is_starrable                  192326\n",
       "location                      192326\n",
       "pledged                       192326\n",
       "profile                       192326\n",
       "spotlight                     192326\n",
       "staff_pick                    192326\n",
       "state                         192326\n",
       "static_usd_rate               192326\n",
       "usd_pledged                   192326\n",
       "usd_type                      192326\n",
       "0                             192326\n",
       "category                      192326\n",
       "sub-category                  192326\n",
       "campaign_duration_days        192326\n",
       "campaign_launch_delay_days    192326\n",
       "campaign_launch_delay_secs    192326\n",
       "launched_at_year              192326\n",
       "launched_at_month             192326\n",
       "launched_at_day               192326\n",
       "launched_at_hour              192326\n",
       "deadline_year                 192326\n",
       "deadline_month                192326\n",
       "deadline_day                  192326\n",
       "deadline_hour                 192326\n",
       "created_at_year               192326\n",
       "created_at_month              192326\n",
       "created_at_day                192326\n",
       "created_at_hour               192326\n",
       "dtype: int64"
      ]
     },
     "execution_count": 80,
     "metadata": {},
     "output_type": "execute_result"
    }
   ],
   "source": [
    "df5.isnull().count()"
   ]
  },
  {
   "cell_type": "markdown",
   "metadata": {},
   "source": [
    "**Test Train Split**"
   ]
  },
  {
   "cell_type": "code",
   "execution_count": 41,
   "metadata": {},
   "outputs": [],
   "source": [
    "#train, test = train_test_split(df3,stratify=df3['state'], random_state=42)"
   ]
  },
  {
   "cell_type": "code",
   "execution_count": 42,
   "metadata": {},
   "outputs": [],
   "source": [
    "train = df5[df5['launched_at_year'] != 2019]\n",
    "test = df5[df5['launched_at_year'] == 2019]"
   ]
  },
  {
   "cell_type": "code",
   "execution_count": 43,
   "metadata": {},
   "outputs": [],
   "source": [
    "target = 'state'\n",
    "X_train = train.drop(columns=target)\n",
    "X_test = test.drop(columns=target)\n",
    "y_test = test[target]\n",
    "y_train = train[target]"
   ]
  },
  {
   "cell_type": "code",
   "execution_count": 44,
   "metadata": {},
   "outputs": [
    {
     "data": {
      "text/plain": [
       "((169383, 37), (22943, 37), (169383,), (22943,))"
      ]
     },
     "execution_count": 44,
     "metadata": {},
     "output_type": "execute_result"
    }
   ],
   "source": [
    "X_train.shape, X_test.shape, y_train.shape, y_test.shape"
   ]
  },
  {
   "cell_type": "code",
   "execution_count": 45,
   "metadata": {},
   "outputs": [],
   "source": [
    "# numeric_transformer = Pipeline(steps=[\n",
    "#     ('scaler', StandardScaler())])\n",
    "# ordinal_transformer = Pipeline(steps=[\n",
    "#     #('imputer', SimpleImputer(strategy='constant', fill_value='missing')),\n",
    "#     ('ord', ce.OrdinalEncoder())]) \n",
    "# boolean_transformer = Pipeline(steps=[\n",
    "#     ('imputer', SimpleImputer(strategy='most_frequent'))])\n",
    "# preprocessor = ColumnTransformer(\n",
    "#     transformers=[\n",
    "#         ('num', numeric_transformer, numerical_features),\n",
    "#         ('one', ordinal_transformer, cat_features)])"
   ]
  },
  {
   "cell_type": "code",
   "execution_count": 46,
   "metadata": {},
   "outputs": [],
   "source": [
    "# classification = Pipeline(steps=[('preprocessor', preprocessor),\n",
    "#                       ('rf', RandomForestClassifier(n_estimators=200, min_samples_split=3,\n",
    "#                              criterion='gini', max_features='auto', oob_score=True,\n",
    "#                              random_state=5, n_jobs=-1,class_weight = 'balanced'))])"
   ]
  },
  {
   "cell_type": "code",
   "execution_count": 47,
   "metadata": {},
   "outputs": [],
   "source": [
    "# model = XGBClassifier(n_jobs=-1, random_state=42)\n",
    "# param_dist = {'max_depth': randint(3,12),\n",
    "#               'learning_rate': uniform(0,1),\n",
    "#               'n_estimators': randint(200, 1500),\n",
    "#               'min_child_weight': randint(1,10),\n",
    "#               'gamma': randint(0,5),\n",
    "#               'subsample': [0.6, 0.7, 0.8, 0.9, 1],\n",
    "#               'colsample_bytree': [0.6, 0.7, 0.8, 0.9, 1],\n",
    "#               }\n",
    "\n",
    "# search = RandomizedSearchCV(model,\n",
    "#                             param_distributions=param_dist,\n",
    "#                             n_iter=10,\n",
    "#                             cv=5,\n",
    "#                             scoring='accuracy',\n",
    "#                             verbose=10,\n",
    "#                             return_train_score=True)\n",
    "\n",
    "# search.fit(X_train, y_train)\n",
    "# print('Best hyperparameters', search.best_params_)\n",
    "# print('Best score', search.best_score_)"
   ]
  },
  {
   "cell_type": "code",
   "execution_count": null,
   "metadata": {},
   "outputs": [],
   "source": [
    "imputer = SimpleImputer(stratergy = 'constant')"
   ]
  },
  {
   "cell_type": "code",
   "execution_count": 73,
   "metadata": {},
   "outputs": [],
   "source": [
    "encoder = ce.OrdinalEncoder()\n",
    "X_train_encoded = encoder.fit_transform(X_train)\n",
    "X_test_encoded = encoder.fit_transform(X_test)"
   ]
  },
  {
   "cell_type": "code",
   "execution_count": 74,
   "metadata": {},
   "outputs": [],
   "source": [
    "model = RandomForestClassifier(n_estimators=200, min_samples_split=3,\n",
    "                            criterion='gini', max_features='auto', oob_score=True,\n",
    "                              random_state=5, n_jobs=-1,class_weight = 'balanced')"
   ]
  },
  {
   "cell_type": "code",
   "execution_count": 75,
   "metadata": {},
   "outputs": [],
   "source": [
    "# X_train_encoded.shape()"
   ]
  },
  {
   "cell_type": "code",
   "execution_count": 76,
   "metadata": {},
   "outputs": [
    {
     "ename": "ValueError",
     "evalue": "Input contains NaN, infinity or a value too large for dtype('float32').",
     "output_type": "error",
     "traceback": [
      "\u001b[0;31m---------------------------------------------------------------------------\u001b[0m",
      "\u001b[0;31mValueError\u001b[0m                                Traceback (most recent call last)",
      "\u001b[0;32m<ipython-input-76-9a170acded6d>\u001b[0m in \u001b[0;36m<module>\u001b[0;34m\u001b[0m\n\u001b[0;32m----> 1\u001b[0;31m \u001b[0mmodel\u001b[0m\u001b[0;34m.\u001b[0m\u001b[0mfit\u001b[0m\u001b[0;34m(\u001b[0m\u001b[0mX_train_encoded\u001b[0m\u001b[0;34m,\u001b[0m \u001b[0my_train\u001b[0m\u001b[0;34m)\u001b[0m\u001b[0;34m\u001b[0m\u001b[0;34m\u001b[0m\u001b[0m\n\u001b[0m",
      "\u001b[0;32m~/anaconda3/lib/python3.7/site-packages/sklearn/ensemble/forest.py\u001b[0m in \u001b[0;36mfit\u001b[0;34m(self, X, y, sample_weight)\u001b[0m\n\u001b[1;32m    248\u001b[0m \u001b[0;34m\u001b[0m\u001b[0m\n\u001b[1;32m    249\u001b[0m         \u001b[0;31m# Validate or convert input data\u001b[0m\u001b[0;34m\u001b[0m\u001b[0;34m\u001b[0m\u001b[0;34m\u001b[0m\u001b[0m\n\u001b[0;32m--> 250\u001b[0;31m         \u001b[0mX\u001b[0m \u001b[0;34m=\u001b[0m \u001b[0mcheck_array\u001b[0m\u001b[0;34m(\u001b[0m\u001b[0mX\u001b[0m\u001b[0;34m,\u001b[0m \u001b[0maccept_sparse\u001b[0m\u001b[0;34m=\u001b[0m\u001b[0;34m\"csc\"\u001b[0m\u001b[0;34m,\u001b[0m \u001b[0mdtype\u001b[0m\u001b[0;34m=\u001b[0m\u001b[0mDTYPE\u001b[0m\u001b[0;34m)\u001b[0m\u001b[0;34m\u001b[0m\u001b[0;34m\u001b[0m\u001b[0m\n\u001b[0m\u001b[1;32m    251\u001b[0m         \u001b[0my\u001b[0m \u001b[0;34m=\u001b[0m \u001b[0mcheck_array\u001b[0m\u001b[0;34m(\u001b[0m\u001b[0my\u001b[0m\u001b[0;34m,\u001b[0m \u001b[0maccept_sparse\u001b[0m\u001b[0;34m=\u001b[0m\u001b[0;34m'csc'\u001b[0m\u001b[0;34m,\u001b[0m \u001b[0mensure_2d\u001b[0m\u001b[0;34m=\u001b[0m\u001b[0;32mFalse\u001b[0m\u001b[0;34m,\u001b[0m \u001b[0mdtype\u001b[0m\u001b[0;34m=\u001b[0m\u001b[0;32mNone\u001b[0m\u001b[0;34m)\u001b[0m\u001b[0;34m\u001b[0m\u001b[0;34m\u001b[0m\u001b[0m\n\u001b[1;32m    252\u001b[0m         \u001b[0;32mif\u001b[0m \u001b[0msample_weight\u001b[0m \u001b[0;32mis\u001b[0m \u001b[0;32mnot\u001b[0m \u001b[0;32mNone\u001b[0m\u001b[0;34m:\u001b[0m\u001b[0;34m\u001b[0m\u001b[0;34m\u001b[0m\u001b[0m\n",
      "\u001b[0;32m~/anaconda3/lib/python3.7/site-packages/sklearn/utils/validation.py\u001b[0m in \u001b[0;36mcheck_array\u001b[0;34m(array, accept_sparse, accept_large_sparse, dtype, order, copy, force_all_finite, ensure_2d, allow_nd, ensure_min_samples, ensure_min_features, warn_on_dtype, estimator)\u001b[0m\n\u001b[1;32m    571\u001b[0m         \u001b[0;32mif\u001b[0m \u001b[0mforce_all_finite\u001b[0m\u001b[0;34m:\u001b[0m\u001b[0;34m\u001b[0m\u001b[0;34m\u001b[0m\u001b[0m\n\u001b[1;32m    572\u001b[0m             _assert_all_finite(array,\n\u001b[0;32m--> 573\u001b[0;31m                                allow_nan=force_all_finite == 'allow-nan')\n\u001b[0m\u001b[1;32m    574\u001b[0m \u001b[0;34m\u001b[0m\u001b[0m\n\u001b[1;32m    575\u001b[0m     \u001b[0mshape_repr\u001b[0m \u001b[0;34m=\u001b[0m \u001b[0m_shape_repr\u001b[0m\u001b[0;34m(\u001b[0m\u001b[0marray\u001b[0m\u001b[0;34m.\u001b[0m\u001b[0mshape\u001b[0m\u001b[0;34m)\u001b[0m\u001b[0;34m\u001b[0m\u001b[0;34m\u001b[0m\u001b[0m\n",
      "\u001b[0;32m~/anaconda3/lib/python3.7/site-packages/sklearn/utils/validation.py\u001b[0m in \u001b[0;36m_assert_all_finite\u001b[0;34m(X, allow_nan)\u001b[0m\n\u001b[1;32m     54\u001b[0m                 not allow_nan and not np.isfinite(X).all()):\n\u001b[1;32m     55\u001b[0m             \u001b[0mtype_err\u001b[0m \u001b[0;34m=\u001b[0m \u001b[0;34m'infinity'\u001b[0m \u001b[0;32mif\u001b[0m \u001b[0mallow_nan\u001b[0m \u001b[0;32melse\u001b[0m \u001b[0;34m'NaN, infinity'\u001b[0m\u001b[0;34m\u001b[0m\u001b[0;34m\u001b[0m\u001b[0m\n\u001b[0;32m---> 56\u001b[0;31m             \u001b[0;32mraise\u001b[0m \u001b[0mValueError\u001b[0m\u001b[0;34m(\u001b[0m\u001b[0mmsg_err\u001b[0m\u001b[0;34m.\u001b[0m\u001b[0mformat\u001b[0m\u001b[0;34m(\u001b[0m\u001b[0mtype_err\u001b[0m\u001b[0;34m,\u001b[0m \u001b[0mX\u001b[0m\u001b[0;34m.\u001b[0m\u001b[0mdtype\u001b[0m\u001b[0;34m)\u001b[0m\u001b[0;34m)\u001b[0m\u001b[0;34m\u001b[0m\u001b[0;34m\u001b[0m\u001b[0m\n\u001b[0m\u001b[1;32m     57\u001b[0m \u001b[0;34m\u001b[0m\u001b[0m\n\u001b[1;32m     58\u001b[0m \u001b[0;34m\u001b[0m\u001b[0m\n",
      "\u001b[0;31mValueError\u001b[0m: Input contains NaN, infinity or a value too large for dtype('float32')."
     ]
    }
   ],
   "source": [
    "model.fit(X_train_encoded, y_train)"
   ]
  },
  {
   "cell_type": "code",
   "execution_count": 51,
   "metadata": {},
   "outputs": [],
   "source": [
    "# pre = Pipeline(steps=[('preprocessor', preprocessor)])"
   ]
  },
  {
   "cell_type": "code",
   "execution_count": 52,
   "metadata": {},
   "outputs": [],
   "source": [
    "# X_test_encoded = pre.fit_transform(X_test)"
   ]
  },
  {
   "cell_type": "code",
   "execution_count": 53,
   "metadata": {},
   "outputs": [],
   "source": [
    "# X_test_encoded.shape"
   ]
  },
  {
   "cell_type": "code",
   "execution_count": 54,
   "metadata": {},
   "outputs": [],
   "source": [
    "# y_train.value_counts()"
   ]
  },
  {
   "cell_type": "code",
   "execution_count": 55,
   "metadata": {},
   "outputs": [],
   "source": [
    "# y_test.value_counts()"
   ]
  },
  {
   "cell_type": "code",
   "execution_count": 56,
   "metadata": {},
   "outputs": [],
   "source": [
    "# classification.named_steps['rf'].input_features_"
   ]
  },
  {
   "cell_type": "code",
   "execution_count": 57,
   "metadata": {},
   "outputs": [],
   "source": [
    "# X_test.columns"
   ]
  },
  {
   "cell_type": "code",
   "execution_count": 59,
   "metadata": {},
   "outputs": [
    {
     "name": "stdout",
     "output_type": "stream",
     "text": [
      "test accuracy: 0.9957285446541428\n",
      "              precision    recall  f1-score   support\n",
      "\n",
      "      failed       1.00      0.98      0.99      4428\n",
      "  successful       1.00      1.00      1.00     18515\n",
      "\n",
      "   micro avg       1.00      1.00      1.00     22943\n",
      "   macro avg       1.00      0.99      0.99     22943\n",
      "weighted avg       1.00      1.00      1.00     22943\n",
      "\n"
     ]
    }
   ],
   "source": [
    " y_pred = model.predict(X_test[numerical_features])\n",
    "print('test accuracy:', accuracy_score(y_test, y_pred))\n",
    "print(classification_report(y_test, y_pred))"
   ]
  },
  {
   "cell_type": "code",
   "execution_count": 60,
   "metadata": {},
   "outputs": [
    {
     "data": {
      "text/plain": [
       "array(['failed', 'successful'], dtype=object)"
      ]
     },
     "execution_count": 60,
     "metadata": {},
     "output_type": "execute_result"
    }
   ],
   "source": [
    "np.unique(y_pred)"
   ]
  },
  {
   "cell_type": "code",
   "execution_count": 61,
   "metadata": {},
   "outputs": [
    {
     "data": {
      "text/plain": [
       "array(['failed', 'successful'], dtype=object)"
      ]
     },
     "execution_count": 61,
     "metadata": {},
     "output_type": "execute_result"
    }
   ],
   "source": [
    "np.unique(y_test)"
   ]
  },
  {
   "cell_type": "code",
   "execution_count": 62,
   "metadata": {},
   "outputs": [],
   "source": [
    "# # choosing hyperparamters\n",
    "# model = XGBClassifier()\n",
    "\n",
    "# classification_hyp = Pipeline(steps=[('preprocessor', preprocessor),\n",
    "#                       ('model', XGBClassifier(n_jobs=-1,random_state = 42))])\n",
    "\n",
    "# param_dist = {'model__max_depth': randint(3,12),\n",
    "#               'model__n_estimators': randint(200, 1500),\n",
    "#               'model__min_child_weight': randint(1,10),\n",
    "#               'model__subsample': [0.6, 0.7, 0.8, 0.9, 1],\n",
    "#               'model__learning_rate': uniform(0,1),\n",
    "#               'model__gamma': randint(0,5),\n",
    "#               'model__colsample_bytree': [0.6, 0.7, 0.8, 0.9, 1]\n",
    "#               }\n",
    "\n",
    "# search = RandomizedSearchCV(classification_hyp,\n",
    "#                             param_distributions=param_dist,\n",
    "#                             n_iter=5,\n",
    "#                             cv=3,\n",
    "#                             scoring='accuracy',\n",
    "#                             verbose=10,\n",
    "#                             return_train_score=True)\n",
    "\n",
    "# search.fit(X_train, y_train)\n",
    "# print('Best hyperparameters', search.best_params_)\n",
    "# print('Best score', search.best_score_)"
   ]
  },
  {
   "cell_type": "code",
   "execution_count": 63,
   "metadata": {},
   "outputs": [],
   "source": [
    "cm = confusion_matrix(y_test,y_pred)"
   ]
  },
  {
   "cell_type": "code",
   "execution_count": 64,
   "metadata": {},
   "outputs": [],
   "source": [
    "def plot_confusion_matrix(y_true,y_pred,normalize=False):\n",
    "    columns = [f'Predicted \"{c}\"'for c in unique_labels(y_pred)]\n",
    "    index_names = [f'Actual \"{c}\"'for c in unique_labels(y_true)]\n",
    "    cm = confusion_matrix(y_true,y_pred)\n",
    "    if normalize:\n",
    "        cm=cm/cm.sum(axis=1).reshape(y_true.nunique(),1)\n",
    "    df = pd.DataFrame(cm,columns = columns,index = index_names)\n",
    "    sns.heatmap(df,cmap='viridis',annot=True,fmt='.2f');"
   ]
  },
  {
   "cell_type": "code",
   "execution_count": 65,
   "metadata": {},
   "outputs": [
    {
     "data": {
      "image/png": "[encoded data removed]",
      "text/plain": [
       "<Figure size 432x288 with 2 Axes>"
      ]
     },
     "metadata": {
      "needs_background": "light"
     },
     "output_type": "display_data"
    }
   ],
   "source": [
    "plot_confusion_matrix(y_test,y_pred,normalize=True)"
   ]
  },
  {
   "cell_type": "code",
   "execution_count": 69,
   "metadata": {},
   "outputs": [
    {
     "data": {
      "image/png": "[encoded data removed]",
      "text/plain": [
       "<Figure size 720x720 with 1 Axes>"
      ]
     },
     "metadata": {
      "needs_background": "light"
     },
     "output_type": "display_data"
    }
   ],
   "source": [
    "# Feature Importance\n",
    "plt.figure(figsize=(10,10))\n",
    "importances = pd.Series(model.feature_importances_, X_test[numerical_features].columns).sort_values(ascending=False)\n",
    "importances = importances[:5].sort_values()\n",
    "importances.plot.barh(color='orange');"
   ]
  },
  {
   "cell_type": "markdown",
   "metadata": {},
   "source": [
    "Visuals"
   ]
  },
  {
   "cell_type": "code",
   "execution_count": 54,
   "metadata": {},
   "outputs": [
    {
     "data": {
      "image/png": "[encoded data removed]",
      "text/plain": [
       "<Figure size 1080x576 with 1 Axes>"
      ]
     },
     "metadata": {
      "needs_background": "light"
     },
     "output_type": "display_data"
    }
   ],
   "source": [
    "# Using the five thirty eight style\n",
    "plt.style.context('fivethirtyeight')\n",
    "#colors = ['#fff100', '#ff8c00', '#e81123', '#ec008c']\n",
    "#sns.set_palette(colors, 4)\n",
    "plt.figure(figsize=(15,8))\n",
    "\n",
    "# Setting plot and details\n",
    "ax = sns.countplot(x = \"category\", hue=\"state\", data=df3)\n",
    "ax.text(s=\"Success of campaign Grouped By Category\", y=18500, x=-0.5, fontsize=17, fontweight='semibold');\n",
    "ax.text(s=\"A Breakdown of success and failure of campaign grouped by its Category\", y=17800, x=-0.5, fontsize=15, fontstyle='italic', color='grey')\n",
    "l = ax.legend()\n",
    "l.set_title('State')\n",
    "sns.despine(ax=ax, left=True)\n",
    "# ax.set_ylabel(\"\");\n",
    "# ax.set_xlabel(\"\");"
   ]
  },
  {
   "cell_type": "code",
   "execution_count": 58,
   "metadata": {},
   "outputs": [],
   "source": [
    "#ratio of success to fail in each category\n",
    "#fail = df3[df3['state' == 'failed']]\n",
    "fail = df3['state'=='failed']\n",
    "success = df3['state'=='successful']\n",
    "cancel = df3['state'=='canceled']"
   ]
  },
  {
   "cell_type": "code",
   "execution_count": 68,
   "metadata": {},
   "outputs": [],
   "source": [
    "film_video = df3[df3['category']=='film & video']\n",
    "music = df3['category'=='music']\n",
    "technology = df3['category'=='technology']\n",
    "art = df3['category'=='art']\n",
    "publishing = df3['category'=='publishing']\n",
    "food = df3['category'=='food']\n",
    "games = df3['category'=='games']\n",
    "fashion = df3['category'=='fashion']\n",
    "comics = df3['category'=='comics']\n",
    "photography = df3['category'=='photography']\n",
    "crafts = df3['category'=='crafts']\n",
    "theater = df3['category'=='theater']\n",
    "design = df3['category'=='design']\n",
    "journalism = df3['category'=='journalism']\n",
    "dance = df3['category'=='dance']"
   ]
  },
  {
   "cell_type": "code",
   "execution_count": null,
   "metadata": {},
   "outputs": [],
   "source": []
  },
  {
   "cell_type": "code",
   "execution_count": 81,
   "metadata": {},
   "outputs": [
    {
     "data": {
      "text/plain": [
       "0.36783329075581184"
      ]
     },
     "execution_count": 81,
     "metadata": {},
     "output_type": "execute_result"
    }
   ],
   "source": [
    "(film_video[film_video['state']=='failed']['state'].count())/(film_video['state'].count())"
   ]
  },
  {
   "cell_type": "code",
   "execution_count": null,
   "metadata": {},
   "outputs": [],
   "source": []
  },
  {
   "cell_type": "code",
   "execution_count": null,
   "metadata": {},
   "outputs": [],
   "source": []
  },
  {
   "cell_type": "code",
   "execution_count": null,
   "metadata": {},
   "outputs": [],
   "source": []
  }
 ],
 "metadata": {
  "kernelspec": {
   "display_name": "Python 3",
   "language": "python",
   "name": "python3"
  },
  "language_info": {
   "codemirror_mode": {
    "name": "ipython",
    "version": 3
   },
   "file_extension": ".py",
   "mimetype": "text/x-python",
   "name": "python",
   "nbconvert_exporter": "python",
   "pygments_lexer": "ipython3",
   "version": "3.7.3"
  }
 },
 "nbformat": 4,
 "nbformat_minor": 2
}
